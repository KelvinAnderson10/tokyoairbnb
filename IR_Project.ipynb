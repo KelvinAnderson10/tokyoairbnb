{
 "cells": [
  {
   "cell_type": "markdown",
   "metadata": {},
   "source": [
    "# Tokyo Airbnb Price and Review Prediction and Data Analysis"
   ]
  },
  {
   "cell_type": "code",
   "execution_count": 1,
   "metadata": {},
   "outputs": [],
   "source": [
    "import numpy as np\n",
    "\n",
    "import pandas as pd\n",
    "from sklearn.model_selection import train_test_split\n",
    "from sklearn.preprocessing import LabelEncoder\n",
    "from sklearn.linear_model import LogisticRegression,LinearRegression\n",
    "from sklearn.metrics import classification_report, confusion_matrix\n",
    "from sklearn.metrics import mean_squared_error, mean_absolute_error, r2_score\n",
    "from sklearn.feature_selection import RFE,RFECV"
   ]
  },
  {
   "cell_type": "code",
   "execution_count": 2,
   "metadata": {},
   "outputs": [
    {
     "name": "stderr",
     "output_type": "stream",
     "text": [
      "D:\\Anaconda3\\lib\\site-packages\\IPython\\core\\interactiveshell.py:3063: DtypeWarning: Columns (50,51,52,53,54,55,56,57,58,62,63,64,66,69,70,78,79,81,82,83,84,85) have mixed types.Specify dtype option on import or set low_memory=False.\n",
      "  interactivity=interactivity, compiler=compiler, result=result)\n"
     ]
    }
   ],
   "source": [
    "data = pd.read_csv('dataset.csv') # memuat file csv sebagai data frame"
   ]
  },
  {
   "cell_type": "code",
   "execution_count": 3,
   "metadata": {},
   "outputs": [
    {
     "data": {
      "text/html": [
       "<div>\n",
       "<style scoped>\n",
       "    .dataframe tbody tr th:only-of-type {\n",
       "        vertical-align: middle;\n",
       "    }\n",
       "\n",
       "    .dataframe tbody tr th {\n",
       "        vertical-align: top;\n",
       "    }\n",
       "\n",
       "    .dataframe thead th {\n",
       "        text-align: right;\n",
       "    }\n",
       "</style>\n",
       "<table border=\"1\" class=\"dataframe\">\n",
       "  <thead>\n",
       "    <tr style=\"text-align: right;\">\n",
       "      <th></th>\n",
       "      <th>id</th>\n",
       "      <th>host_id</th>\n",
       "      <th>host_name</th>\n",
       "      <th>host_response_time</th>\n",
       "      <th>host_response_rate</th>\n",
       "      <th>host_acceptance_rate</th>\n",
       "      <th>host_neighbourhood</th>\n",
       "      <th>host_listings_count</th>\n",
       "      <th>host_total_listings_count</th>\n",
       "      <th>neighbourhood</th>\n",
       "      <th>...</th>\n",
       "      <th>Unnamed: 81</th>\n",
       "      <th>Unnamed: 82</th>\n",
       "      <th>Unnamed: 83</th>\n",
       "      <th>Unnamed: 84</th>\n",
       "      <th>Unnamed: 85</th>\n",
       "      <th>Unnamed: 86</th>\n",
       "      <th>Unnamed: 87</th>\n",
       "      <th>Unnamed: 88</th>\n",
       "      <th>Unnamed: 89</th>\n",
       "      <th>Unnamed: 90</th>\n",
       "    </tr>\n",
       "  </thead>\n",
       "  <tbody>\n",
       "    <tr>\n",
       "      <th>0</th>\n",
       "      <td>35303</td>\n",
       "      <td>151977</td>\n",
       "      <td>Miyuki</td>\n",
       "      <td>NaN</td>\n",
       "      <td>NaN</td>\n",
       "      <td>NaN</td>\n",
       "      <td>Shibuya District</td>\n",
       "      <td>3</td>\n",
       "      <td>3</td>\n",
       "      <td>Shibuya District</td>\n",
       "      <td>...</td>\n",
       "      <td>NaN</td>\n",
       "      <td>NaN</td>\n",
       "      <td>NaN</td>\n",
       "      <td>NaN</td>\n",
       "      <td>NaN</td>\n",
       "      <td>NaN</td>\n",
       "      <td>NaN</td>\n",
       "      <td>NaN</td>\n",
       "      <td>NaN</td>\n",
       "      <td>NaN</td>\n",
       "    </tr>\n",
       "    <tr>\n",
       "      <th>1</th>\n",
       "      <td>197677</td>\n",
       "      <td>964081</td>\n",
       "      <td>Yoshimi &amp; Marek</td>\n",
       "      <td>within a few hours</td>\n",
       "      <td>100%</td>\n",
       "      <td>88%</td>\n",
       "      <td>Sumida District</td>\n",
       "      <td>1</td>\n",
       "      <td>1</td>\n",
       "      <td>Sumida District</td>\n",
       "      <td>...</td>\n",
       "      <td>NaN</td>\n",
       "      <td>NaN</td>\n",
       "      <td>NaN</td>\n",
       "      <td>NaN</td>\n",
       "      <td>NaN</td>\n",
       "      <td>NaN</td>\n",
       "      <td>NaN</td>\n",
       "      <td>NaN</td>\n",
       "      <td>NaN</td>\n",
       "      <td>NaN</td>\n",
       "    </tr>\n",
       "    <tr>\n",
       "      <th>2</th>\n",
       "      <td>289597</td>\n",
       "      <td>341577</td>\n",
       "      <td>Hide&amp;Kei</td>\n",
       "      <td>within a few hours</td>\n",
       "      <td>100%</td>\n",
       "      <td>82%</td>\n",
       "      <td>Nerima District</td>\n",
       "      <td>2</td>\n",
       "      <td>2</td>\n",
       "      <td>Nerima District</td>\n",
       "      <td>...</td>\n",
       "      <td>NaN</td>\n",
       "      <td>NaN</td>\n",
       "      <td>NaN</td>\n",
       "      <td>NaN</td>\n",
       "      <td>NaN</td>\n",
       "      <td>NaN</td>\n",
       "      <td>NaN</td>\n",
       "      <td>NaN</td>\n",
       "      <td>NaN</td>\n",
       "      <td>NaN</td>\n",
       "    </tr>\n",
       "    <tr>\n",
       "      <th>3</th>\n",
       "      <td>370759</td>\n",
       "      <td>1573631</td>\n",
       "      <td>Gilles,Mayumi,Taiki</td>\n",
       "      <td>within a day</td>\n",
       "      <td>100%</td>\n",
       "      <td>93%</td>\n",
       "      <td>Setagaya District</td>\n",
       "      <td>3</td>\n",
       "      <td>3</td>\n",
       "      <td>Setagaya District</td>\n",
       "      <td>...</td>\n",
       "      <td>NaN</td>\n",
       "      <td>NaN</td>\n",
       "      <td>NaN</td>\n",
       "      <td>NaN</td>\n",
       "      <td>NaN</td>\n",
       "      <td>NaN</td>\n",
       "      <td>NaN</td>\n",
       "      <td>NaN</td>\n",
       "      <td>NaN</td>\n",
       "      <td>NaN</td>\n",
       "    </tr>\n",
       "    <tr>\n",
       "      <th>4</th>\n",
       "      <td>700253</td>\n",
       "      <td>341577</td>\n",
       "      <td>Hide&amp;Kei</td>\n",
       "      <td>within a few hours</td>\n",
       "      <td>100%</td>\n",
       "      <td>82%</td>\n",
       "      <td>Nerima District</td>\n",
       "      <td>2</td>\n",
       "      <td>2</td>\n",
       "      <td>Nerima District</td>\n",
       "      <td>...</td>\n",
       "      <td>NaN</td>\n",
       "      <td>NaN</td>\n",
       "      <td>NaN</td>\n",
       "      <td>NaN</td>\n",
       "      <td>NaN</td>\n",
       "      <td>NaN</td>\n",
       "      <td>NaN</td>\n",
       "      <td>NaN</td>\n",
       "      <td>NaN</td>\n",
       "      <td>NaN</td>\n",
       "    </tr>\n",
       "    <tr>\n",
       "      <th>...</th>\n",
       "      <td>...</td>\n",
       "      <td>...</td>\n",
       "      <td>...</td>\n",
       "      <td>...</td>\n",
       "      <td>...</td>\n",
       "      <td>...</td>\n",
       "      <td>...</td>\n",
       "      <td>...</td>\n",
       "      <td>...</td>\n",
       "      <td>...</td>\n",
       "      <td>...</td>\n",
       "      <td>...</td>\n",
       "      <td>...</td>\n",
       "      <td>...</td>\n",
       "      <td>...</td>\n",
       "      <td>...</td>\n",
       "      <td>...</td>\n",
       "      <td>...</td>\n",
       "      <td>...</td>\n",
       "      <td>...</td>\n",
       "      <td>...</td>\n",
       "    </tr>\n",
       "    <tr>\n",
       "      <th>95</th>\n",
       "      <td>4396219</td>\n",
       "      <td>18776800</td>\n",
       "      <td>LiveinAsia</td>\n",
       "      <td>within a few hours</td>\n",
       "      <td>100%</td>\n",
       "      <td>99%</td>\n",
       "      <td>Shibuya District</td>\n",
       "      <td>18</td>\n",
       "      <td>18</td>\n",
       "      <td>Suginami District</td>\n",
       "      <td>...</td>\n",
       "      <td>NaN</td>\n",
       "      <td>NaN</td>\n",
       "      <td>NaN</td>\n",
       "      <td>NaN</td>\n",
       "      <td>NaN</td>\n",
       "      <td>NaN</td>\n",
       "      <td>NaN</td>\n",
       "      <td>NaN</td>\n",
       "      <td>NaN</td>\n",
       "      <td>NaN</td>\n",
       "    </tr>\n",
       "    <tr>\n",
       "      <th>96</th>\n",
       "      <td>4396221</td>\n",
       "      <td>18776800</td>\n",
       "      <td>LiveinAsia</td>\n",
       "      <td>within a few hours</td>\n",
       "      <td>100%</td>\n",
       "      <td>99%</td>\n",
       "      <td>Shibuya District</td>\n",
       "      <td>18</td>\n",
       "      <td>18</td>\n",
       "      <td>Suginami District</td>\n",
       "      <td>...</td>\n",
       "      <td>NaN</td>\n",
       "      <td>NaN</td>\n",
       "      <td>NaN</td>\n",
       "      <td>NaN</td>\n",
       "      <td>NaN</td>\n",
       "      <td>NaN</td>\n",
       "      <td>NaN</td>\n",
       "      <td>NaN</td>\n",
       "      <td>NaN</td>\n",
       "      <td>NaN</td>\n",
       "    </tr>\n",
       "    <tr>\n",
       "      <th>97</th>\n",
       "      <td>4471640</td>\n",
       "      <td>22643572</td>\n",
       "      <td>Sachiko&amp;Kurara</td>\n",
       "      <td>within a few hours</td>\n",
       "      <td>100%</td>\n",
       "      <td>93%</td>\n",
       "      <td>NaN</td>\n",
       "      <td>3</td>\n",
       "      <td>3</td>\n",
       "      <td>NaN</td>\n",
       "      <td>...</td>\n",
       "      <td>NaN</td>\n",
       "      <td>NaN</td>\n",
       "      <td>NaN</td>\n",
       "      <td>NaN</td>\n",
       "      <td>NaN</td>\n",
       "      <td>NaN</td>\n",
       "      <td>NaN</td>\n",
       "      <td>NaN</td>\n",
       "      <td>NaN</td>\n",
       "      <td>NaN</td>\n",
       "    </tr>\n",
       "    <tr>\n",
       "      <th>98</th>\n",
       "      <td>4471946</td>\n",
       "      <td>23202702</td>\n",
       "      <td>Teruko</td>\n",
       "      <td>within an hour</td>\n",
       "      <td>100%</td>\n",
       "      <td>98%</td>\n",
       "      <td>Kita District</td>\n",
       "      <td>1</td>\n",
       "      <td>1</td>\n",
       "      <td>Kita District</td>\n",
       "      <td>...</td>\n",
       "      <td>NaN</td>\n",
       "      <td>NaN</td>\n",
       "      <td>NaN</td>\n",
       "      <td>NaN</td>\n",
       "      <td>NaN</td>\n",
       "      <td>NaN</td>\n",
       "      <td>NaN</td>\n",
       "      <td>NaN</td>\n",
       "      <td>NaN</td>\n",
       "      <td>NaN</td>\n",
       "    </tr>\n",
       "    <tr>\n",
       "      <th>99</th>\n",
       "      <td>4477690</td>\n",
       "      <td>2610437</td>\n",
       "      <td>Pari</td>\n",
       "      <td>NaN</td>\n",
       "      <td>NaN</td>\n",
       "      <td>67%</td>\n",
       "      <td>Kamigyō-ku</td>\n",
       "      <td>3</td>\n",
       "      <td>3</td>\n",
       "      <td>Shinjuku District</td>\n",
       "      <td>...</td>\n",
       "      <td>NaN</td>\n",
       "      <td>NaN</td>\n",
       "      <td>NaN</td>\n",
       "      <td>NaN</td>\n",
       "      <td>NaN</td>\n",
       "      <td>NaN</td>\n",
       "      <td>NaN</td>\n",
       "      <td>NaN</td>\n",
       "      <td>NaN</td>\n",
       "      <td>NaN</td>\n",
       "    </tr>\n",
       "  </tbody>\n",
       "</table>\n",
       "<p>100 rows × 91 columns</p>\n",
       "</div>"
      ],
      "text/plain": [
       "         id   host_id            host_name  host_response_time  \\\n",
       "0     35303    151977               Miyuki                 NaN   \n",
       "1    197677    964081      Yoshimi & Marek  within a few hours   \n",
       "2    289597    341577             Hide&Kei  within a few hours   \n",
       "3    370759   1573631  Gilles,Mayumi,Taiki        within a day   \n",
       "4    700253    341577             Hide&Kei  within a few hours   \n",
       "..      ...       ...                  ...                 ...   \n",
       "95  4396219  18776800           LiveinAsia  within a few hours   \n",
       "96  4396221  18776800           LiveinAsia  within a few hours   \n",
       "97  4471640  22643572       Sachiko&Kurara  within a few hours   \n",
       "98  4471946  23202702               Teruko      within an hour   \n",
       "99  4477690   2610437                 Pari                 NaN   \n",
       "\n",
       "   host_response_rate host_acceptance_rate host_neighbourhood  \\\n",
       "0                 NaN                  NaN   Shibuya District   \n",
       "1                100%                  88%    Sumida District   \n",
       "2                100%                  82%    Nerima District   \n",
       "3                100%                  93%  Setagaya District   \n",
       "4                100%                  82%    Nerima District   \n",
       "..                ...                  ...                ...   \n",
       "95               100%                  99%   Shibuya District   \n",
       "96               100%                  99%   Shibuya District   \n",
       "97               100%                  93%                NaN   \n",
       "98               100%                  98%      Kita District   \n",
       "99                NaN                  67%         Kamigyō-ku   \n",
       "\n",
       "   host_listings_count host_total_listings_count      neighbourhood  ...  \\\n",
       "0                    3                         3   Shibuya District  ...   \n",
       "1                    1                         1    Sumida District  ...   \n",
       "2                    2                         2    Nerima District  ...   \n",
       "3                    3                         3  Setagaya District  ...   \n",
       "4                    2                         2    Nerima District  ...   \n",
       "..                 ...                       ...                ...  ...   \n",
       "95                  18                        18  Suginami District  ...   \n",
       "96                  18                        18  Suginami District  ...   \n",
       "97                   3                         3                NaN  ...   \n",
       "98                   1                         1      Kita District  ...   \n",
       "99                   3                         3  Shinjuku District  ...   \n",
       "\n",
       "   Unnamed: 81 Unnamed: 82 Unnamed: 83 Unnamed: 84 Unnamed: 85 Unnamed: 86  \\\n",
       "0          NaN         NaN         NaN         NaN         NaN         NaN   \n",
       "1          NaN         NaN         NaN         NaN         NaN         NaN   \n",
       "2          NaN         NaN         NaN         NaN         NaN         NaN   \n",
       "3          NaN         NaN         NaN         NaN         NaN         NaN   \n",
       "4          NaN         NaN         NaN         NaN         NaN         NaN   \n",
       "..         ...         ...         ...         ...         ...         ...   \n",
       "95         NaN         NaN         NaN         NaN         NaN         NaN   \n",
       "96         NaN         NaN         NaN         NaN         NaN         NaN   \n",
       "97         NaN         NaN         NaN         NaN         NaN         NaN   \n",
       "98         NaN         NaN         NaN         NaN         NaN         NaN   \n",
       "99         NaN         NaN         NaN         NaN         NaN         NaN   \n",
       "\n",
       "   Unnamed: 87 Unnamed: 88 Unnamed: 89 Unnamed: 90  \n",
       "0          NaN         NaN         NaN         NaN  \n",
       "1          NaN         NaN         NaN         NaN  \n",
       "2          NaN         NaN         NaN         NaN  \n",
       "3          NaN         NaN         NaN         NaN  \n",
       "4          NaN         NaN         NaN         NaN  \n",
       "..         ...         ...         ...         ...  \n",
       "95         NaN         NaN         NaN         NaN  \n",
       "96         NaN         NaN         NaN         NaN  \n",
       "97         NaN         NaN         NaN         NaN  \n",
       "98         NaN         NaN         NaN         NaN  \n",
       "99         NaN         NaN         NaN         NaN  \n",
       "\n",
       "[100 rows x 91 columns]"
      ]
     },
     "execution_count": 3,
     "metadata": {},
     "output_type": "execute_result"
    }
   ],
   "source": [
    "data.head(100)"
   ]
  },
  {
   "cell_type": "code",
   "execution_count": 4,
   "metadata": {},
   "outputs": [
    {
     "name": "stdout",
     "output_type": "stream",
     "text": [
      "<class 'pandas.core.frame.DataFrame'>\n",
      "RangeIndex: 13049 entries, 0 to 13048\n",
      "Data columns (total 91 columns):\n",
      " #   Column                     Non-Null Count  Dtype  \n",
      "---  ------                     --------------  -----  \n",
      " 0   id                         13049 non-null  int64  \n",
      " 1   host_id                    12811 non-null  object \n",
      " 2   host_name                  13003 non-null  object \n",
      " 3   host_response_time         12199 non-null  object \n",
      " 4   host_response_rate         12246 non-null  object \n",
      " 5   host_acceptance_rate       12729 non-null  object \n",
      " 6   host_neighbourhood         11234 non-null  object \n",
      " 7   host_listings_count        12996 non-null  object \n",
      " 8   host_total_listings_count  13028 non-null  object \n",
      " 9   neighbourhood              11861 non-null  object \n",
      " 10  neighbourhood_cleansed     13019 non-null  object \n",
      " 11  property_type              13048 non-null  object \n",
      " 12  room_type                  13045 non-null  object \n",
      " 13  accommodates               13046 non-null  object \n",
      " 14  bathrooms                  13044 non-null  object \n",
      " 15  bedrooms                   13028 non-null  object \n",
      " 16  beds                       13015 non-null  object \n",
      " 17  price                      12847 non-null  object \n",
      " 18  guests_included            12997 non-null  object \n",
      " 19  extra_people               13027 non-null  object \n",
      " 20  minimum_nights             13020 non-null  object \n",
      " 21  maximum_nights             13020 non-null  object \n",
      " 22  minimum_minimum_nights     13016 non-null  object \n",
      " 23  maximum_minimum_nights     13040 non-null  object \n",
      " 24  minimum_maximum_nights     13025 non-null  object \n",
      " 25  maximum_maximum_nights     13026 non-null  object \n",
      " 26  number_of_reviews          13049 non-null  object \n",
      " 27  number_of_reviews_ltm      13049 non-null  object \n",
      " 28  review_scores_rating       11075 non-null  object \n",
      " 29  reviews_per_month          11110 non-null  object \n",
      " 30  Unnamed: 30                301 non-null    object \n",
      " 31  Unnamed: 31                123 non-null    object \n",
      " 32  Unnamed: 32                95 non-null     object \n",
      " 33  Unnamed: 33                78 non-null     object \n",
      " 34  Unnamed: 34                64 non-null     object \n",
      " 35  Unnamed: 35                65 non-null     object \n",
      " 36  Unnamed: 36                51 non-null     object \n",
      " 37  Unnamed: 37                42 non-null     object \n",
      " 38  Unnamed: 38                37 non-null     object \n",
      " 39  Unnamed: 39                35 non-null     object \n",
      " 40  Unnamed: 40                17 non-null     object \n",
      " 41  Unnamed: 41                16 non-null     object \n",
      " 42  Unnamed: 42                14 non-null     object \n",
      " 43  Unnamed: 43                12 non-null     object \n",
      " 44  Unnamed: 44                5 non-null      float64\n",
      " 45  Unnamed: 45                10 non-null     object \n",
      " 46  Unnamed: 46                5 non-null      object \n",
      " 47  Unnamed: 47                5 non-null      object \n",
      " 48  Unnamed: 48                9 non-null      object \n",
      " 49  Unnamed: 49                5 non-null      object \n",
      " 50  Unnamed: 50                9 non-null      object \n",
      " 51  Unnamed: 51                8 non-null      object \n",
      " 52  Unnamed: 52                9 non-null      object \n",
      " 53  Unnamed: 53                9 non-null      object \n",
      " 54  Unnamed: 54                8 non-null      object \n",
      " 55  Unnamed: 55                7 non-null      object \n",
      " 56  Unnamed: 56                7 non-null      object \n",
      " 57  Unnamed: 57                7 non-null      object \n",
      " 58  Unnamed: 58                7 non-null      object \n",
      " 59  Unnamed: 59                6 non-null      float64\n",
      " 60  Unnamed: 60                7 non-null      object \n",
      " 61  Unnamed: 61                7 non-null      object \n",
      " 62  Unnamed: 62                6 non-null      object \n",
      " 63  Unnamed: 63                6 non-null      object \n",
      " 64  Unnamed: 64                6 non-null      object \n",
      " 65  Unnamed: 65                6 non-null      float64\n",
      " 66  Unnamed: 66                6 non-null      object \n",
      " 67  Unnamed: 67                6 non-null      float64\n",
      " 68  Unnamed: 68                6 non-null      float64\n",
      " 69  Unnamed: 69                2 non-null      object \n",
      " 70  Unnamed: 70                1 non-null      object \n",
      " 71  Unnamed: 71                1 non-null      float64\n",
      " 72  Unnamed: 72                1 non-null      float64\n",
      " 73  Unnamed: 73                1 non-null      float64\n",
      " 74  Unnamed: 74                1 non-null      float64\n",
      " 75  Unnamed: 75                1 non-null      float64\n",
      " 76  Unnamed: 76                1 non-null      float64\n",
      " 77  Unnamed: 77                1 non-null      float64\n",
      " 78  Unnamed: 78                5 non-null      object \n",
      " 79  Unnamed: 79                5 non-null      object \n",
      " 80  Unnamed: 80                0 non-null      float64\n",
      " 81  Unnamed: 81                5 non-null      object \n",
      " 82  Unnamed: 82                5 non-null      object \n",
      " 83  Unnamed: 83                5 non-null      object \n",
      " 84  Unnamed: 84                5 non-null      object \n",
      " 85  Unnamed: 85                5 non-null      object \n",
      " 86  Unnamed: 86                5 non-null      float64\n",
      " 87  Unnamed: 87                5 non-null      float64\n",
      " 88  Unnamed: 88                5 non-null      float64\n",
      " 89  Unnamed: 89                5 non-null      float64\n",
      " 90  Unnamed: 90                1 non-null      float64\n",
      "dtypes: float64(18), int64(1), object(72)\n",
      "memory usage: 9.1+ MB\n"
     ]
    }
   ],
   "source": [
    "data.info( ) #informasi dataset\n"
   ]
  },
  {
   "cell_type": "code",
   "execution_count": 5,
   "metadata": {},
   "outputs": [
    {
     "data": {
      "text/html": [
       "<div>\n",
       "<style scoped>\n",
       "    .dataframe tbody tr th:only-of-type {\n",
       "        vertical-align: middle;\n",
       "    }\n",
       "\n",
       "    .dataframe tbody tr th {\n",
       "        vertical-align: top;\n",
       "    }\n",
       "\n",
       "    .dataframe thead th {\n",
       "        text-align: right;\n",
       "    }\n",
       "</style>\n",
       "<table border=\"1\" class=\"dataframe\">\n",
       "  <thead>\n",
       "    <tr style=\"text-align: right;\">\n",
       "      <th></th>\n",
       "      <th>id</th>\n",
       "      <th>Unnamed: 44</th>\n",
       "      <th>Unnamed: 59</th>\n",
       "      <th>Unnamed: 65</th>\n",
       "      <th>Unnamed: 67</th>\n",
       "      <th>Unnamed: 68</th>\n",
       "      <th>Unnamed: 71</th>\n",
       "      <th>Unnamed: 72</th>\n",
       "      <th>Unnamed: 73</th>\n",
       "      <th>Unnamed: 74</th>\n",
       "      <th>Unnamed: 75</th>\n",
       "      <th>Unnamed: 76</th>\n",
       "      <th>Unnamed: 77</th>\n",
       "      <th>Unnamed: 80</th>\n",
       "      <th>Unnamed: 86</th>\n",
       "      <th>Unnamed: 87</th>\n",
       "      <th>Unnamed: 88</th>\n",
       "      <th>Unnamed: 89</th>\n",
       "      <th>Unnamed: 90</th>\n",
       "    </tr>\n",
       "  </thead>\n",
       "  <tbody>\n",
       "    <tr>\n",
       "      <th>count</th>\n",
       "      <td>1.304900e+04</td>\n",
       "      <td>5.000000</td>\n",
       "      <td>6.000000</td>\n",
       "      <td>6.000000</td>\n",
       "      <td>6.000000</td>\n",
       "      <td>6.000000</td>\n",
       "      <td>1.0</td>\n",
       "      <td>1.0</td>\n",
       "      <td>1.0</td>\n",
       "      <td>1.0</td>\n",
       "      <td>1.0</td>\n",
       "      <td>1.0</td>\n",
       "      <td>1.0</td>\n",
       "      <td>0.0</td>\n",
       "      <td>5.0</td>\n",
       "      <td>5.0</td>\n",
       "      <td>5.0</td>\n",
       "      <td>5.0</td>\n",
       "      <td>1.00</td>\n",
       "    </tr>\n",
       "    <tr>\n",
       "      <th>mean</th>\n",
       "      <td>3.119821e+07</td>\n",
       "      <td>12.080000</td>\n",
       "      <td>390.333333</td>\n",
       "      <td>0.500000</td>\n",
       "      <td>0.166667</td>\n",
       "      <td>0.166667</td>\n",
       "      <td>80.0</td>\n",
       "      <td>6.0</td>\n",
       "      <td>10.0</td>\n",
       "      <td>8.0</td>\n",
       "      <td>6.0</td>\n",
       "      <td>8.0</td>\n",
       "      <td>6.0</td>\n",
       "      <td>NaN</td>\n",
       "      <td>5.0</td>\n",
       "      <td>0.0</td>\n",
       "      <td>5.0</td>\n",
       "      <td>0.0</td>\n",
       "      <td>0.65</td>\n",
       "    </tr>\n",
       "    <tr>\n",
       "      <th>std</th>\n",
       "      <td>9.484635e+06</td>\n",
       "      <td>17.509449</td>\n",
       "      <td>569.173670</td>\n",
       "      <td>1.224745</td>\n",
       "      <td>0.408248</td>\n",
       "      <td>0.408248</td>\n",
       "      <td>NaN</td>\n",
       "      <td>NaN</td>\n",
       "      <td>NaN</td>\n",
       "      <td>NaN</td>\n",
       "      <td>NaN</td>\n",
       "      <td>NaN</td>\n",
       "      <td>NaN</td>\n",
       "      <td>NaN</td>\n",
       "      <td>0.0</td>\n",
       "      <td>0.0</td>\n",
       "      <td>0.0</td>\n",
       "      <td>0.0</td>\n",
       "      <td>NaN</td>\n",
       "    </tr>\n",
       "    <tr>\n",
       "      <th>min</th>\n",
       "      <td>3.530300e+04</td>\n",
       "      <td>0.440000</td>\n",
       "      <td>2.000000</td>\n",
       "      <td>0.000000</td>\n",
       "      <td>0.000000</td>\n",
       "      <td>0.000000</td>\n",
       "      <td>80.0</td>\n",
       "      <td>6.0</td>\n",
       "      <td>10.0</td>\n",
       "      <td>8.0</td>\n",
       "      <td>6.0</td>\n",
       "      <td>8.0</td>\n",
       "      <td>6.0</td>\n",
       "      <td>NaN</td>\n",
       "      <td>5.0</td>\n",
       "      <td>0.0</td>\n",
       "      <td>5.0</td>\n",
       "      <td>0.0</td>\n",
       "      <td>0.65</td>\n",
       "    </tr>\n",
       "    <tr>\n",
       "      <th>25%</th>\n",
       "      <td>2.593419e+07</td>\n",
       "      <td>2.960000</td>\n",
       "      <td>30.000000</td>\n",
       "      <td>0.000000</td>\n",
       "      <td>0.000000</td>\n",
       "      <td>0.000000</td>\n",
       "      <td>80.0</td>\n",
       "      <td>6.0</td>\n",
       "      <td>10.0</td>\n",
       "      <td>8.0</td>\n",
       "      <td>6.0</td>\n",
       "      <td>8.0</td>\n",
       "      <td>6.0</td>\n",
       "      <td>NaN</td>\n",
       "      <td>5.0</td>\n",
       "      <td>0.0</td>\n",
       "      <td>5.0</td>\n",
       "      <td>0.0</td>\n",
       "      <td>0.65</td>\n",
       "    </tr>\n",
       "    <tr>\n",
       "      <th>50%</th>\n",
       "      <td>3.284523e+07</td>\n",
       "      <td>7.000000</td>\n",
       "      <td>30.000000</td>\n",
       "      <td>0.000000</td>\n",
       "      <td>0.000000</td>\n",
       "      <td>0.000000</td>\n",
       "      <td>80.0</td>\n",
       "      <td>6.0</td>\n",
       "      <td>10.0</td>\n",
       "      <td>8.0</td>\n",
       "      <td>6.0</td>\n",
       "      <td>8.0</td>\n",
       "      <td>6.0</td>\n",
       "      <td>NaN</td>\n",
       "      <td>5.0</td>\n",
       "      <td>0.0</td>\n",
       "      <td>5.0</td>\n",
       "      <td>0.0</td>\n",
       "      <td>0.65</td>\n",
       "    </tr>\n",
       "    <tr>\n",
       "      <th>75%</th>\n",
       "      <td>3.926178e+07</td>\n",
       "      <td>7.000000</td>\n",
       "      <td>851.250000</td>\n",
       "      <td>0.000000</td>\n",
       "      <td>0.000000</td>\n",
       "      <td>0.000000</td>\n",
       "      <td>80.0</td>\n",
       "      <td>6.0</td>\n",
       "      <td>10.0</td>\n",
       "      <td>8.0</td>\n",
       "      <td>6.0</td>\n",
       "      <td>8.0</td>\n",
       "      <td>6.0</td>\n",
       "      <td>NaN</td>\n",
       "      <td>5.0</td>\n",
       "      <td>0.0</td>\n",
       "      <td>5.0</td>\n",
       "      <td>0.0</td>\n",
       "      <td>0.65</td>\n",
       "    </tr>\n",
       "    <tr>\n",
       "      <th>max</th>\n",
       "      <td>4.328692e+07</td>\n",
       "      <td>43.000000</td>\n",
       "      <td>1125.000000</td>\n",
       "      <td>3.000000</td>\n",
       "      <td>1.000000</td>\n",
       "      <td>1.000000</td>\n",
       "      <td>80.0</td>\n",
       "      <td>6.0</td>\n",
       "      <td>10.0</td>\n",
       "      <td>8.0</td>\n",
       "      <td>6.0</td>\n",
       "      <td>8.0</td>\n",
       "      <td>6.0</td>\n",
       "      <td>NaN</td>\n",
       "      <td>5.0</td>\n",
       "      <td>0.0</td>\n",
       "      <td>5.0</td>\n",
       "      <td>0.0</td>\n",
       "      <td>0.65</td>\n",
       "    </tr>\n",
       "  </tbody>\n",
       "</table>\n",
       "</div>"
      ],
      "text/plain": [
       "                 id  Unnamed: 44  Unnamed: 59  Unnamed: 65  Unnamed: 67  \\\n",
       "count  1.304900e+04     5.000000     6.000000     6.000000     6.000000   \n",
       "mean   3.119821e+07    12.080000   390.333333     0.500000     0.166667   \n",
       "std    9.484635e+06    17.509449   569.173670     1.224745     0.408248   \n",
       "min    3.530300e+04     0.440000     2.000000     0.000000     0.000000   \n",
       "25%    2.593419e+07     2.960000    30.000000     0.000000     0.000000   \n",
       "50%    3.284523e+07     7.000000    30.000000     0.000000     0.000000   \n",
       "75%    3.926178e+07     7.000000   851.250000     0.000000     0.000000   \n",
       "max    4.328692e+07    43.000000  1125.000000     3.000000     1.000000   \n",
       "\n",
       "       Unnamed: 68  Unnamed: 71  Unnamed: 72  Unnamed: 73  Unnamed: 74  \\\n",
       "count     6.000000          1.0          1.0          1.0          1.0   \n",
       "mean      0.166667         80.0          6.0         10.0          8.0   \n",
       "std       0.408248          NaN          NaN          NaN          NaN   \n",
       "min       0.000000         80.0          6.0         10.0          8.0   \n",
       "25%       0.000000         80.0          6.0         10.0          8.0   \n",
       "50%       0.000000         80.0          6.0         10.0          8.0   \n",
       "75%       0.000000         80.0          6.0         10.0          8.0   \n",
       "max       1.000000         80.0          6.0         10.0          8.0   \n",
       "\n",
       "       Unnamed: 75  Unnamed: 76  Unnamed: 77  Unnamed: 80  Unnamed: 86  \\\n",
       "count          1.0          1.0          1.0          0.0          5.0   \n",
       "mean           6.0          8.0          6.0          NaN          5.0   \n",
       "std            NaN          NaN          NaN          NaN          0.0   \n",
       "min            6.0          8.0          6.0          NaN          5.0   \n",
       "25%            6.0          8.0          6.0          NaN          5.0   \n",
       "50%            6.0          8.0          6.0          NaN          5.0   \n",
       "75%            6.0          8.0          6.0          NaN          5.0   \n",
       "max            6.0          8.0          6.0          NaN          5.0   \n",
       "\n",
       "       Unnamed: 87  Unnamed: 88  Unnamed: 89  Unnamed: 90  \n",
       "count          5.0          5.0          5.0         1.00  \n",
       "mean           0.0          5.0          0.0         0.65  \n",
       "std            0.0          0.0          0.0          NaN  \n",
       "min            0.0          5.0          0.0         0.65  \n",
       "25%            0.0          5.0          0.0         0.65  \n",
       "50%            0.0          5.0          0.0         0.65  \n",
       "75%            0.0          5.0          0.0         0.65  \n",
       "max            0.0          5.0          0.0         0.65  "
      ]
     },
     "execution_count": 5,
     "metadata": {},
     "output_type": "execute_result"
    }
   ],
   "source": [
    "data.describe() "
   ]
  },
  {
   "cell_type": "code",
   "execution_count": 6,
   "metadata": {},
   "outputs": [
    {
     "data": {
      "text/plain": [
       "(13049, 91)"
      ]
     },
     "execution_count": 6,
     "metadata": {},
     "output_type": "execute_result"
    }
   ],
   "source": [
    " #ukuran awal nya (13049, 91)\n",
    "data.shape"
   ]
  },
  {
   "cell_type": "code",
   "execution_count": 7,
   "metadata": {},
   "outputs": [],
   "source": [
    "#delete data unamed\n",
    "data.drop(data.columns[data.columns.str.contains('unnamed',case = False)],axis = 1, inplace = True)\n"
   ]
  },
  {
   "cell_type": "code",
   "execution_count": 8,
   "metadata": {},
   "outputs": [],
   "source": [
    "#drop fitur yang tidak dibutuhkan\n",
    "data.drop(['id', 'host_id', 'host_name','host_neighbourhood','neighbourhood','neighbourhood_cleansed','guests_included','extra_people','minimum_minimum_nights','maximum_minimum_nights','minimum_maximum_nights','maximum_maximum_nights','number_of_reviews','number_of_reviews_ltm','host_listings_count','host_total_listings_count'], axis=1,inplace = True)"
   ]
  },
  {
   "cell_type": "markdown",
   "metadata": {},
   "source": [
    "12 fitur yg saya pilih :\n",
    "\n",
    "host_response_time\n",
    "host_response_rate\n",
    "host_acceptance_rate\n",
    "property_type\n",
    "room_type\n",
    "accommodates\n",
    "bathrooms\n",
    "bedrooms\n",
    "beds\n",
    "minimum_nights\n",
    "maximum_nights\n",
    "reviews_per_month\n",
    "\n",
    "\n",
    "review_scores_rating (target)\n",
    "price (target)\n",
    "\n"
   ]
  },
  {
   "cell_type": "code",
   "execution_count": 9,
   "metadata": {
    "scrolled": true
   },
   "outputs": [
    {
     "data": {
      "text/html": [
       "<div>\n",
       "<style scoped>\n",
       "    .dataframe tbody tr th:only-of-type {\n",
       "        vertical-align: middle;\n",
       "    }\n",
       "\n",
       "    .dataframe tbody tr th {\n",
       "        vertical-align: top;\n",
       "    }\n",
       "\n",
       "    .dataframe thead th {\n",
       "        text-align: right;\n",
       "    }\n",
       "</style>\n",
       "<table border=\"1\" class=\"dataframe\">\n",
       "  <thead>\n",
       "    <tr style=\"text-align: right;\">\n",
       "      <th></th>\n",
       "      <th>host_response_time</th>\n",
       "      <th>host_response_rate</th>\n",
       "      <th>host_acceptance_rate</th>\n",
       "      <th>property_type</th>\n",
       "      <th>room_type</th>\n",
       "      <th>accommodates</th>\n",
       "      <th>bathrooms</th>\n",
       "      <th>bedrooms</th>\n",
       "      <th>beds</th>\n",
       "      <th>price</th>\n",
       "      <th>minimum_nights</th>\n",
       "      <th>maximum_nights</th>\n",
       "      <th>review_scores_rating</th>\n",
       "      <th>reviews_per_month</th>\n",
       "    </tr>\n",
       "  </thead>\n",
       "  <tbody>\n",
       "    <tr>\n",
       "      <th>0</th>\n",
       "      <td>NaN</td>\n",
       "      <td>NaN</td>\n",
       "      <td>NaN</td>\n",
       "      <td>Apartment</td>\n",
       "      <td>Private room</td>\n",
       "      <td>1</td>\n",
       "      <td>1</td>\n",
       "      <td>1</td>\n",
       "      <td>1</td>\n",
       "      <td>$4,183.00</td>\n",
       "      <td>28</td>\n",
       "      <td>1125</td>\n",
       "      <td>94</td>\n",
       "      <td>0.18</td>\n",
       "    </tr>\n",
       "    <tr>\n",
       "      <th>1</th>\n",
       "      <td>within a few hours</td>\n",
       "      <td>100%</td>\n",
       "      <td>88%</td>\n",
       "      <td>Apartment</td>\n",
       "      <td>Entire home/apt</td>\n",
       "      <td>2</td>\n",
       "      <td>1</td>\n",
       "      <td>1</td>\n",
       "      <td>2</td>\n",
       "      <td>$11,048.00</td>\n",
       "      <td>3</td>\n",
       "      <td>365</td>\n",
       "      <td>95</td>\n",
       "      <td>1.57</td>\n",
       "    </tr>\n",
       "    <tr>\n",
       "      <th>2</th>\n",
       "      <td>within a few hours</td>\n",
       "      <td>100%</td>\n",
       "      <td>82%</td>\n",
       "      <td>Apartment</td>\n",
       "      <td>Entire home/apt</td>\n",
       "      <td>2</td>\n",
       "      <td>1</td>\n",
       "      <td>1</td>\n",
       "      <td>1</td>\n",
       "      <td>$4,171.00</td>\n",
       "      <td>28</td>\n",
       "      <td>180</td>\n",
       "      <td>95</td>\n",
       "      <td>1.18</td>\n",
       "    </tr>\n",
       "    <tr>\n",
       "      <th>3</th>\n",
       "      <td>within a day</td>\n",
       "      <td>100%</td>\n",
       "      <td>93%</td>\n",
       "      <td>Apartment</td>\n",
       "      <td>Entire home/apt</td>\n",
       "      <td>2</td>\n",
       "      <td>1</td>\n",
       "      <td>0</td>\n",
       "      <td>1</td>\n",
       "      <td>$6,952.00</td>\n",
       "      <td>28</td>\n",
       "      <td>720</td>\n",
       "      <td>95</td>\n",
       "      <td>1.39</td>\n",
       "    </tr>\n",
       "    <tr>\n",
       "      <th>4</th>\n",
       "      <td>within a few hours</td>\n",
       "      <td>100%</td>\n",
       "      <td>82%</td>\n",
       "      <td>Apartment</td>\n",
       "      <td>Entire home/apt</td>\n",
       "      <td>2</td>\n",
       "      <td>1</td>\n",
       "      <td>1</td>\n",
       "      <td>1</td>\n",
       "      <td>$3,957.00</td>\n",
       "      <td>28</td>\n",
       "      <td>180</td>\n",
       "      <td>96</td>\n",
       "      <td>1.12</td>\n",
       "    </tr>\n",
       "    <tr>\n",
       "      <th>...</th>\n",
       "      <td>...</td>\n",
       "      <td>...</td>\n",
       "      <td>...</td>\n",
       "      <td>...</td>\n",
       "      <td>...</td>\n",
       "      <td>...</td>\n",
       "      <td>...</td>\n",
       "      <td>...</td>\n",
       "      <td>...</td>\n",
       "      <td>...</td>\n",
       "      <td>...</td>\n",
       "      <td>...</td>\n",
       "      <td>...</td>\n",
       "      <td>...</td>\n",
       "    </tr>\n",
       "    <tr>\n",
       "      <th>95</th>\n",
       "      <td>within a few hours</td>\n",
       "      <td>100%</td>\n",
       "      <td>99%</td>\n",
       "      <td>Apartment</td>\n",
       "      <td>Entire home/apt</td>\n",
       "      <td>5</td>\n",
       "      <td>1</td>\n",
       "      <td>1</td>\n",
       "      <td>2</td>\n",
       "      <td>$13,477.00</td>\n",
       "      <td>6</td>\n",
       "      <td>1125</td>\n",
       "      <td>95</td>\n",
       "      <td>0.41</td>\n",
       "    </tr>\n",
       "    <tr>\n",
       "      <th>96</th>\n",
       "      <td>within a few hours</td>\n",
       "      <td>100%</td>\n",
       "      <td>99%</td>\n",
       "      <td>Apartment</td>\n",
       "      <td>Entire home/apt</td>\n",
       "      <td>4</td>\n",
       "      <td>1</td>\n",
       "      <td>1</td>\n",
       "      <td>1</td>\n",
       "      <td>$17,006.00</td>\n",
       "      <td>6</td>\n",
       "      <td>1125</td>\n",
       "      <td>91</td>\n",
       "      <td>0.36</td>\n",
       "    </tr>\n",
       "    <tr>\n",
       "      <th>97</th>\n",
       "      <td>within a few hours</td>\n",
       "      <td>100%</td>\n",
       "      <td>93%</td>\n",
       "      <td>House</td>\n",
       "      <td>Private room</td>\n",
       "      <td>2</td>\n",
       "      <td>1.5</td>\n",
       "      <td>1</td>\n",
       "      <td>4</td>\n",
       "      <td>$3,744.00</td>\n",
       "      <td>4</td>\n",
       "      <td>1125</td>\n",
       "      <td>100</td>\n",
       "      <td>0.2</td>\n",
       "    </tr>\n",
       "    <tr>\n",
       "      <th>98</th>\n",
       "      <td>within an hour</td>\n",
       "      <td>100%</td>\n",
       "      <td>98%</td>\n",
       "      <td>Apartment</td>\n",
       "      <td>Entire home/apt</td>\n",
       "      <td>5</td>\n",
       "      <td>1</td>\n",
       "      <td>2</td>\n",
       "      <td>5</td>\n",
       "      <td>$15,017.00</td>\n",
       "      <td>7</td>\n",
       "      <td>365</td>\n",
       "      <td>99</td>\n",
       "      <td>1.53</td>\n",
       "    </tr>\n",
       "    <tr>\n",
       "      <th>99</th>\n",
       "      <td>NaN</td>\n",
       "      <td>NaN</td>\n",
       "      <td>67%</td>\n",
       "      <td>House</td>\n",
       "      <td>Entire home/apt</td>\n",
       "      <td>4</td>\n",
       "      <td>1</td>\n",
       "      <td>2</td>\n",
       "      <td>2</td>\n",
       "      <td>$6,417.00</td>\n",
       "      <td>30</td>\n",
       "      <td>400</td>\n",
       "      <td>96</td>\n",
       "      <td>0.4</td>\n",
       "    </tr>\n",
       "  </tbody>\n",
       "</table>\n",
       "<p>100 rows × 14 columns</p>\n",
       "</div>"
      ],
      "text/plain": [
       "    host_response_time host_response_rate host_acceptance_rate property_type  \\\n",
       "0                  NaN                NaN                  NaN     Apartment   \n",
       "1   within a few hours               100%                  88%     Apartment   \n",
       "2   within a few hours               100%                  82%     Apartment   \n",
       "3         within a day               100%                  93%     Apartment   \n",
       "4   within a few hours               100%                  82%     Apartment   \n",
       "..                 ...                ...                  ...           ...   \n",
       "95  within a few hours               100%                  99%     Apartment   \n",
       "96  within a few hours               100%                  99%     Apartment   \n",
       "97  within a few hours               100%                  93%         House   \n",
       "98      within an hour               100%                  98%     Apartment   \n",
       "99                 NaN                NaN                  67%         House   \n",
       "\n",
       "          room_type accommodates bathrooms bedrooms beds       price  \\\n",
       "0      Private room            1         1        1    1   $4,183.00   \n",
       "1   Entire home/apt            2         1        1    2  $11,048.00   \n",
       "2   Entire home/apt            2         1        1    1   $4,171.00   \n",
       "3   Entire home/apt            2         1        0    1   $6,952.00   \n",
       "4   Entire home/apt            2         1        1    1   $3,957.00   \n",
       "..              ...          ...       ...      ...  ...         ...   \n",
       "95  Entire home/apt            5         1        1    2  $13,477.00   \n",
       "96  Entire home/apt            4         1        1    1  $17,006.00   \n",
       "97     Private room            2       1.5        1    4   $3,744.00   \n",
       "98  Entire home/apt            5         1        2    5  $15,017.00   \n",
       "99  Entire home/apt            4         1        2    2   $6,417.00   \n",
       "\n",
       "   minimum_nights maximum_nights review_scores_rating reviews_per_month  \n",
       "0              28           1125                   94              0.18  \n",
       "1               3            365                   95              1.57  \n",
       "2              28            180                   95              1.18  \n",
       "3              28            720                   95              1.39  \n",
       "4              28            180                   96              1.12  \n",
       "..            ...            ...                  ...               ...  \n",
       "95              6           1125                   95              0.41  \n",
       "96              6           1125                   91              0.36  \n",
       "97              4           1125                  100               0.2  \n",
       "98              7            365                   99              1.53  \n",
       "99             30            400                   96               0.4  \n",
       "\n",
       "[100 rows x 14 columns]"
      ]
     },
     "execution_count": 9,
     "metadata": {},
     "output_type": "execute_result"
    }
   ],
   "source": [
    "data.head(100)"
   ]
  },
  {
   "cell_type": "markdown",
   "metadata": {},
   "source": [
    "Pada percobaan dibawah ini saya mencoba untuk membersihkan data kotor dengan cara replace salah 1 fitur yaitu host_response_time tapi saat saya coba ternyata data kotornya terlalu banyak sehingga saya tidak jadi mereplace data kotor tersebut, Lalu saya mengdrop semua data yg kosong/nan agar lebih mudah saja. Lalu saya memakai concat untuk merapikan indeks yang tidak urut karena sebelumnya saya telah mengdrop beberapa data"
   ]
  },
  {
   "cell_type": "code",
   "execution_count": 10,
   "metadata": {},
   "outputs": [],
   "source": [
    "#buat penampung\n",
    "temp = []\n",
    "temp = pd.DataFrame(temp)\n"
   ]
  },
  {
   "cell_type": "code",
   "execution_count": 11,
   "metadata": {},
   "outputs": [
    {
     "data": {
      "text/html": [
       "<div>\n",
       "<style scoped>\n",
       "    .dataframe tbody tr th:only-of-type {\n",
       "        vertical-align: middle;\n",
       "    }\n",
       "\n",
       "    .dataframe tbody tr th {\n",
       "        vertical-align: top;\n",
       "    }\n",
       "\n",
       "    .dataframe thead th {\n",
       "        text-align: right;\n",
       "    }\n",
       "</style>\n",
       "<table border=\"1\" class=\"dataframe\">\n",
       "  <thead>\n",
       "    <tr style=\"text-align: right;\">\n",
       "      <th></th>\n",
       "      <th>host_response_time</th>\n",
       "      <th>host_response_rate</th>\n",
       "      <th>host_acceptance_rate</th>\n",
       "      <th>property_type</th>\n",
       "      <th>room_type</th>\n",
       "      <th>accommodates</th>\n",
       "      <th>bathrooms</th>\n",
       "      <th>bedrooms</th>\n",
       "      <th>beds</th>\n",
       "      <th>price</th>\n",
       "      <th>minimum_nights</th>\n",
       "      <th>maximum_nights</th>\n",
       "      <th>review_scores_rating</th>\n",
       "      <th>reviews_per_month</th>\n",
       "    </tr>\n",
       "  </thead>\n",
       "  <tbody>\n",
       "    <tr>\n",
       "      <th>0</th>\n",
       "      <td>within a few hours</td>\n",
       "      <td>100%</td>\n",
       "      <td>88%</td>\n",
       "      <td>Apartment</td>\n",
       "      <td>Entire home/apt</td>\n",
       "      <td>2</td>\n",
       "      <td>1</td>\n",
       "      <td>1</td>\n",
       "      <td>2</td>\n",
       "      <td>$11,048.00</td>\n",
       "      <td>3</td>\n",
       "      <td>365</td>\n",
       "      <td>95</td>\n",
       "      <td>1.57</td>\n",
       "    </tr>\n",
       "    <tr>\n",
       "      <th>1</th>\n",
       "      <td>within a few hours</td>\n",
       "      <td>100%</td>\n",
       "      <td>82%</td>\n",
       "      <td>Apartment</td>\n",
       "      <td>Entire home/apt</td>\n",
       "      <td>2</td>\n",
       "      <td>1</td>\n",
       "      <td>1</td>\n",
       "      <td>1</td>\n",
       "      <td>$4,171.00</td>\n",
       "      <td>28</td>\n",
       "      <td>180</td>\n",
       "      <td>95</td>\n",
       "      <td>1.18</td>\n",
       "    </tr>\n",
       "    <tr>\n",
       "      <th>2</th>\n",
       "      <td>within a day</td>\n",
       "      <td>100%</td>\n",
       "      <td>93%</td>\n",
       "      <td>Apartment</td>\n",
       "      <td>Entire home/apt</td>\n",
       "      <td>2</td>\n",
       "      <td>1</td>\n",
       "      <td>0</td>\n",
       "      <td>1</td>\n",
       "      <td>$6,952.00</td>\n",
       "      <td>28</td>\n",
       "      <td>720</td>\n",
       "      <td>95</td>\n",
       "      <td>1.39</td>\n",
       "    </tr>\n",
       "    <tr>\n",
       "      <th>3</th>\n",
       "      <td>within a few hours</td>\n",
       "      <td>100%</td>\n",
       "      <td>82%</td>\n",
       "      <td>Apartment</td>\n",
       "      <td>Entire home/apt</td>\n",
       "      <td>2</td>\n",
       "      <td>1</td>\n",
       "      <td>1</td>\n",
       "      <td>1</td>\n",
       "      <td>$3,957.00</td>\n",
       "      <td>28</td>\n",
       "      <td>180</td>\n",
       "      <td>96</td>\n",
       "      <td>1.12</td>\n",
       "    </tr>\n",
       "    <tr>\n",
       "      <th>4</th>\n",
       "      <td>within a day</td>\n",
       "      <td>100%</td>\n",
       "      <td>93%</td>\n",
       "      <td>House</td>\n",
       "      <td>Entire home/apt</td>\n",
       "      <td>3</td>\n",
       "      <td>1</td>\n",
       "      <td>2</td>\n",
       "      <td>2</td>\n",
       "      <td>$8,045.00</td>\n",
       "      <td>28</td>\n",
       "      <td>720</td>\n",
       "      <td>96</td>\n",
       "      <td>0.51</td>\n",
       "    </tr>\n",
       "  </tbody>\n",
       "</table>\n",
       "</div>"
      ],
      "text/plain": [
       "   host_response_time host_response_rate host_acceptance_rate property_type  \\\n",
       "0  within a few hours               100%                  88%     Apartment   \n",
       "1  within a few hours               100%                  82%     Apartment   \n",
       "2        within a day               100%                  93%     Apartment   \n",
       "3  within a few hours               100%                  82%     Apartment   \n",
       "4        within a day               100%                  93%         House   \n",
       "\n",
       "         room_type accommodates bathrooms bedrooms beds       price  \\\n",
       "0  Entire home/apt            2         1        1    2  $11,048.00   \n",
       "1  Entire home/apt            2         1        1    1   $4,171.00   \n",
       "2  Entire home/apt            2         1        0    1   $6,952.00   \n",
       "3  Entire home/apt            2         1        1    1   $3,957.00   \n",
       "4  Entire home/apt            3         1        2    2   $8,045.00   \n",
       "\n",
       "  minimum_nights maximum_nights review_scores_rating reviews_per_month  \n",
       "0              3            365                   95              1.57  \n",
       "1             28            180                   95              1.18  \n",
       "2             28            720                   95              1.39  \n",
       "3             28            180                   96              1.12  \n",
       "4             28            720                   96              0.51  "
      ]
     },
     "execution_count": 11,
     "metadata": {},
     "output_type": "execute_result"
    }
   ],
   "source": [
    "#data[\"host_response_time\"].fillna(\"N/A\", inplace = True) \n",
    "#data[\"host_response_time\"].dropna(inplace = True)\n",
    "\n",
    "#saya Mendrop semua tabel data Nan biar mudah\n",
    "data.dropna(inplace = True)\n",
    "data = pd.concat([data, temp], ignore_index=True)\n",
    "#concat untuk memperbaiki index, kalau tidak memakai ini maka akan terjadi error karena indexnya berantakan setelah didrop\n",
    "\n",
    "data.head()\n",
    "#data[\"host_response_time\"].fillna(\"N/A\", inplace = True)  \n",
    "#data[\"host_response_time\"].fillna(\"N/A\", inplace = True)  \n",
    "#data.fillna(\"N/A\", inplace = True)\n",
    "#data.replace(to_replace=\"Hello! We are Khaosan Tokyo Laboratory, a cozy hostel in Asakusa:)\\nThank you for stopping by.\\n\\nWe are located at Asakusa, easy access from any stations there.\\n\\n･5 minutes walk from “Exit 3” of Tawaramachi station on Ginza line (ﾒﾄﾛ銀座線田原町駅)\\n･13 minutes walk from “Exit A4” of Asakusa station on Toei Asakusa line (都営浅草線浅草駅)\\n･5 minutes walk from “Exit 4” of Asakusa station on Tsukuba Express (つくばｴｸｽﾌﾟﾚｽ浅草駅).\\n\\n･1,290Yen / 80min from Narita Airport (成田空港)\\n･620Yen / 45min from Haneda Airport (羽田空港)\\n\\nAsakusa is perfect for travelling Tokyo. Of course it is walking-distance to go to Sensoji Temple (浅草寺/せんそうじ) and Kaminarimon (雷門/かみなりもん).\\n\\nOur unique colourful rooms are perfect for 3-4 people groups, and families!:)\\n\\nWe hope to see you soon at our hostel!\\nIf you have any inquiries, feel free to contact us:)\",value = \"within an hour\",inplace = True)\n",
    "#data.replace(to_replace=\"35937211\",value = \"within an hour\",inplace = True)\n",
    "#data.replace(to_replace=\"こんにちは､Karenです｡\\n生まれも育ちも日本ですが海外の色々な文化や料理が好きで日々情報収拾しています｡今はﾊﾟｰﾄﾀｲﾑで旅行ｺﾝｻﾙをしています｡お勧めの場所紹介､旅行中に便利な情報の提供､また同じくairbnbﾎｽﾄをしている方達のｻﾎﾟｰﾄをしています｡\\nいつか中国､ﾌｨﾘﾋﾟﾝ､ｲﾝﾄﾞﾈｼｱにも行ってみたいです!\\n東京での滞在をお楽しみいただけるように精一杯ｻﾎﾟｰﾄしますので\\nぜひ四季の魅力あふれる日本をお楽しみください｡\\n\\nHi, this is Karen.\\nI was born and raised in Japan, but I like various cultures and foods overseas and I collecting information. Now I am a travel consultant on a part-time. Introducing recommended places and providing useful information while traveling. Also, I am supporting the people who are also hosting airbnb.\\nI want to go to China, Philippines, Indonesia someday!\\nWe will support you so that you can enjoy your stay in Tokyo.\\nPlease enjoy Japan full of the charm of the four seasons.\\n\\n嗨!我是karen!\\n我生在长在日本,我最感兴趣的是体验不同国家的美食和文化｡我现在在旅行之余做一名旅行咨询师推荐给大家我在路上的所见所闻以及美食美景｡我也会帮助在airbnb伤的其他房东｡我的下个目的地是中国,菲律宾,印尼!\\n我会尽全力协助您解决您在入住期间遇到的任何问题,保证您有一个愉悦的旅程!\\n请您尽情享受日本的四季之美｡\\n\\n안녕하세요 저는 Karen입니다\\n저는 일본에서 태어나서 자랐습니다 그러나 저는 \\n해외의 여러가지 음식과 문화를 그리고 정보를 알아가는 것을 좋아합니다. \\n저는 지금 여행 컨설턴트로써 유명장소와 여행동안의 유익한 정보들을\\n소개하고 있습니다. 또한 저는 에어비앤비 호스트들을 하시는 분들도 \\n서포트하고 있습니다. \\n저는 언전가 중국, 필리핀, 그리고 인도네시아에 가고 싶습니다.\\n우리는 당신이 여행동안 도쿄를 즐길 수 있도록 서포트 하겠습니다.\\n일본의 4계절의 매력을 즐겨보세요. 감사합니다.\\n\\n\\n\\n\\n\\n\\n\\n\\n\\n\\n\\n\\n\\n\\n\\n\\n\\n\\n\\n\\n\\n\",value = \"within an hour\",inplace = True)\n",
    "#data.replace(to_replace=\"JP\",value = \"within an hour\",inplace = True)\n",
    "#data.replace(to_replace=\"こんにちは､Arisaです｡\\n幼い頃から､海外の色々な文化や､旅行が好きです｡\\n季節問わずｱｸﾃｨﾌﾞに活動しています｡旅行に行くのは昔から好きなので､旅行先で友人ができたり､現地の方が行くようなお店や､景色を観に行くことが好きです｡\\n今は東京在住でﾎｽﾄをして2年になります｡\\nｹﾞｽﾄ様の東京ご滞在が素晴らしいものになりますよう､\\nご予約前からご滞在後までしっかりｻﾎﾟｰﾄさせていただきます｡\\nぜひご利用くださいね!\\n\\nHi, this is Arisa.\\nSince when I was a kid, I love traveling and country's culture.\\nRegardless of the season, I love to enjoy activities. ( like snowboarding, camping and traveling), so I like to make friends at the place where I'm traveling. Then go to shops and restaurants that the local people go, and see beautiful views. \\nNow I live in Tokyo and have been a host for 2 years. I will do my best to support not only during your stay but also before/after your trip! \\nSo feel free to ask me any questions! \\n\\n嗨,这是Arisa｡\\n从我小时候起,我就喜欢旅行和乡村文化｡\\n无论季节如何,我都喜欢享受活动｡ (例如单板滑雪,露营和旅行),所以我喜欢在我旅行的地方结识朋友｡ 然后去当地人逛的商店和餐馆,欣赏美丽的景色｡\\n现在,我住在东京,并且已经接待了2年｡ 我将竭尽所能,不仅在您住宿期间,而且在旅途之前/之后都为您提供支持!\\n所以随时问我任何问题!\",value = \"within an hour\",inplace = True)\n",
    "#data.replace(to_replace=\"地道吃货一枚｡\",value = \"within an hour\",inplace = True)\n",
    "#data.replace(to_replace=\"Tokyo, Tokyo, Japan\",value = \"within an hour\",inplace = True)\n",
    "#data.replace(to_replace=\"Hello all the tourists. Welcome to Tokyo!!\\nEnjoy your stay in Ikebukuro with easy access to all of the major tourist destinations.\",value = \"within an hour\",inplace = True)\n",
    "#data.replace(to_replace=\"Hi, thank you for dropping by! I'm Yoko. \\nI love travelling and I've been to different cities around the world. Despite having visited a couple of them, I still want to explore more in the future. \\nAlso, for inquiries about my flat, you can message me anytime. I'd be more than glad to provide you with all the necessary information regarding the place. I look forward to hosting you on your visit to Japan. Cheers!\\n\\nこんにちは､ご覧いただきありがとうございます!\\n私も旅行が好きなので､いつも皆さんの立場に立ってお迎えできる様に心がけています｡\\nお部屋は東京の中心地近くなので､観光もお買い物も食事も全て揃い､とても便利です｡\\n皆様のお越しを､ぜひお待ちしております!\",value = \"within an hour\",inplace = True)\n",
    "#data.replace(to_replace=\"私は､旅行と音楽が好きです｡\",value = \"within an hour\",inplace = True)\n",
    "#data.replace(to_replace=\"Hi there, My name is Ai. I live in Tokyo with my family. I am an interpreter and my husband has his own business. I am Japanese and he is American. \\n\\nWe both have lived in many countries - U.S., Canada and Vietnam - and have enjoyed traveling to more than 20 countries globally. :-) We are foodies and love good restaurants and great wine. You can definitely find great food in Tokyo, from Japanese (obviously) to French and Italian. Did you know that Tokyo have more Michelin starred restaurants than Paris?\\n\\nTokyo is a great city, with awesome food and bustling nightlife. \\n\\nWe can speak in English, Japanese, French and Vietnamese. Let us know if you have any questions about Tokyo and Japan. \\n\\nSincerely,\\nAi        12018-07-19\",value = \"within an hour\",inplace = True)\n",
    "#data.replace(to_replace=\"Hi, thank you for dropping by! I'm Midori. I love travelling and I've been to different cities around the world. Despite having visited a couple of them, I still want to explore more in the future. \\n\\nAlso, for inquiries about my flat, you can message me anytime. I'd be more than glad to provide you with all the necessary information regarding the place. I look forward to hosting you on your visit to Japan. Cheers!\\n\\nこんにちは!ご覧いただきありがとうございます!\\n私も旅行が好きなので､いつもｹﾞｽﾄさんの立場に立ってみなさんをお迎えできる様心がけています｡\\nお部屋は東京の中心地なので､観光もお買い物も全てが近くに揃い､ｱｸｾｽもとても便利です｡\\n皆様のお越しを､ぜひお待ちしております!\",value = \"within an hour\",inplace = True)\n"
   ]
  },
  {
   "cell_type": "markdown",
   "metadata": {},
   "source": [
    "Pada Data diatas telah berhasil di drop sehingga tidak ada data nan lagi, tetapi masih ada data kotor"
   ]
  },
  {
   "cell_type": "code",
   "execution_count": 12,
   "metadata": {},
   "outputs": [
    {
     "data": {
      "text/plain": [
       "within an hour             9194\n",
       "within a few hours          724\n",
       "within a day                258\n",
       "a few days or more           23\n",
       "Chuo City, Tokyo, Japan       7\n",
       "雲逸                            5\n",
       "Tokyo, Japan                  5\n",
       "2019-02-04                    5\n",
       "2018-05-14                    4\n",
       "JP                            3\n",
       "Sumida, Tokyo, Japan          3\n",
       "Shinjuku, Tokyo, Japan        2\n",
       "tokyo                         2\n",
       "2018-03-05                    2\n",
       "2014-09-25                    2\n",
       "2019-02-20                    1\n",
       "Tokyo, Tokyo, Japan           1\n",
       "Shibuya, Tokyo, Japan         1\n",
       "Japan                         1\n",
       "2019-03-11                    1\n",
       "2016-10-19                    1\n",
       "Akiko                         1\n",
       "2017-03-04                    1\n",
       "Zhengzhou, Henan, China       1\n",
       "Nakano, Tokyo, Japan          1\n",
       "Sachiko                       1\n",
       "Momo                          1\n",
       "2018-05-21                    1\n",
       "2018-01-15                    1\n",
       "17mn Sky Tree/Sky Tower       1\n",
       "Name: host_response_time, dtype: int64"
      ]
     },
     "execution_count": 12,
     "metadata": {},
     "output_type": "execute_result"
    }
   ],
   "source": [
    "data['host_response_time'].value_counts() # menghitung jumlah setiap value\n"
   ]
  },
  {
   "cell_type": "markdown",
   "metadata": {},
   "source": [
    "terlihat banyak sekali data kotor pada pada fitur host_response_time diatas, sehingga saya melakukan pengelompokan pada 4 value yang palng masuk akal dan meghasilkan hasil dibawah ini."
   ]
  },
  {
   "cell_type": "code",
   "execution_count": 13,
   "metadata": {},
   "outputs": [
    {
     "data": {
      "text/plain": [
       "within an hour        9194\n",
       "within a few hours     724\n",
       "within a day           258\n",
       "a few days or more      23\n",
       "Name: host_response_time, dtype: int64"
      ]
     },
     "execution_count": 13,
     "metadata": {},
     "output_type": "execute_result"
    }
   ],
   "source": [
    "#untuk mengdrop data kotor/value yg aneh\" tidak pada tempatnya\n",
    "Datadrop =[]\n",
    "\n",
    "#saya mengelompokkan menjad 4 value saja selain itu value lainnya saya buang\n",
    "for i, value in enumerate(data['host_response_time']):\n",
    "    if(value != \"within an hour\" and value != \"within a few hours\" and value != \"within a day\" and value != \"a few days or more\"):\n",
    "        Datadrop.append(i)\n",
    "        \n",
    "data = data.drop(index=Datadrop)\n",
    "data['host_response_time'].value_counts() # menghitung jumlah setiap valu"
   ]
  },
  {
   "cell_type": "markdown",
   "metadata": {},
   "source": [
    "Setelah berhasil di drop saya concat lagi agar indeks nya rapi kembali"
   ]
  },
  {
   "cell_type": "code",
   "execution_count": 14,
   "metadata": {},
   "outputs": [],
   "source": [
    "data = pd.concat([data, temp], ignore_index=True)\n",
    "#Merapikan index yang telah didrop karena berantakan"
   ]
  },
  {
   "cell_type": "markdown",
   "metadata": {},
   "source": [
    "Lalu saya melakukan hal serupa untuk fitur lainnya, yaitu mengecek apakah masih ada data kotor lainnya, dan merubah beberapa str menjadi int agar bisa di encode "
   ]
  },
  {
   "cell_type": "code",
   "execution_count": 15,
   "metadata": {},
   "outputs": [
    {
     "data": {
      "text/plain": [
       "100%    9056\n",
       "90%      464\n",
       "80%      112\n",
       "97%       88\n",
       "96%       51\n",
       "91%       51\n",
       "93%       42\n",
       "70%       39\n",
       "50%       35\n",
       "83%       29\n",
       "82%       29\n",
       "75%       27\n",
       "85%       23\n",
       "92%       22\n",
       "99%       15\n",
       "67%       14\n",
       "88%       12\n",
       "98%       12\n",
       "0%        12\n",
       "60%       12\n",
       "89%       10\n",
       "94%       10\n",
       "40%        8\n",
       "78%        7\n",
       "95%        6\n",
       "71%        5\n",
       "86%        3\n",
       "25%        2\n",
       "57%        2\n",
       "20%        1\n",
       "Name: host_response_rate, dtype: int64"
      ]
     },
     "execution_count": 15,
     "metadata": {},
     "output_type": "execute_result"
    }
   ],
   "source": [
    "#data sudah benar\n",
    "data['host_response_rate'].value_counts() # menghitung jumlah setiap species\n",
    "#host_acceptance_rate"
   ]
  },
  {
   "cell_type": "code",
   "execution_count": 16,
   "metadata": {},
   "outputs": [
    {
     "data": {
      "text/plain": [
       "int    10199\n",
       "Name: host_response_rate, dtype: int64"
      ]
     },
     "execution_count": 16,
     "metadata": {},
     "output_type": "execute_result"
    }
   ],
   "source": [
    "#merubah dari str menjadi int karena data aslinya harusnya int\n",
    "\n",
    "Datadrop =[]\n",
    "\n",
    "#mengganti tanda % jadi kosong\n",
    "data['host_response_rate'] = data['host_response_rate'].str.replace('%', '')\n",
    "\n",
    "for i in range(len(data['host_response_rate'])):\n",
    "    data['host_response_rate'][i] = int(data['host_response_rate'][i])\n",
    "    \n",
    "dftype = data['host_response_rate'].apply(lambda x: type(x).__name__)\n",
    "dftype.value_counts()\n",
    "\n",
    "#data telah berhasil dirubah menjadi int"
   ]
  },
  {
   "cell_type": "code",
   "execution_count": 17,
   "metadata": {},
   "outputs": [
    {
     "data": {
      "text/plain": [
       "100%    6775\n",
       "99%     1133\n",
       "98%      477\n",
       "97%      306\n",
       "96%      271\n",
       "95%      162\n",
       "81%      132\n",
       "94%      120\n",
       "93%       96\n",
       "92%       77\n",
       "84%       58\n",
       "88%       53\n",
       "77%       51\n",
       "91%       46\n",
       "72%       44\n",
       "90%       42\n",
       "80%       33\n",
       "87%       26\n",
       "85%       25\n",
       "76%       23\n",
       "89%       23\n",
       "82%       21\n",
       "59%       17\n",
       "83%       17\n",
       "71%       17\n",
       "86%       16\n",
       "67%       14\n",
       "64%       12\n",
       "74%       12\n",
       "55%       10\n",
       "53%        8\n",
       "57%        7\n",
       "35%        6\n",
       "51%        6\n",
       "21%        6\n",
       "69%        5\n",
       "62%        5\n",
       "65%        5\n",
       "50%        4\n",
       "75%        4\n",
       "33%        4\n",
       "46%        3\n",
       "70%        2\n",
       "27%        2\n",
       "45%        2\n",
       "68%        2\n",
       "58%        2\n",
       "60%        2\n",
       "24%        2\n",
       "79%        2\n",
       "17%        2\n",
       "49%        2\n",
       "56%        2\n",
       "48%        2\n",
       "30%        1\n",
       "52%        1\n",
       "25%        1\n",
       "Name: host_acceptance_rate, dtype: int64"
      ]
     },
     "execution_count": 17,
     "metadata": {},
     "output_type": "execute_result"
    }
   ],
   "source": [
    "#data sudah benar\n",
    "data['host_acceptance_rate'].value_counts() # menghitung jumlah setiap value\n"
   ]
  },
  {
   "cell_type": "code",
   "execution_count": 18,
   "metadata": {},
   "outputs": [
    {
     "data": {
      "text/plain": [
       "int    10199\n",
       "Name: host_acceptance_rate, dtype: int64"
      ]
     },
     "execution_count": 18,
     "metadata": {},
     "output_type": "execute_result"
    }
   ],
   "source": [
    "#merubah dari str menjadi int karena data aslinya harusnya int\n",
    "\n",
    "Datadrop =[]\n",
    "#dataset = dataset.dropna(subset=['host_acceptance_rate']) # untuk data yang NaN didrop dulu\n",
    "#dataset = pd.concat([dataset, temp], ignore_index=True)\n",
    "\n",
    "#mengganti tanda % jadi kosong\n",
    "\n",
    "data['host_acceptance_rate'] = data['host_acceptance_rate'].str.replace('%', '') # menghapus semua tanda % sehingga menjadi numeric\n",
    "\n",
    "for i in range(len(data['host_acceptance_rate'])):\n",
    "    data['host_acceptance_rate'][i] = int(data['host_acceptance_rate'][i])\n",
    "    \n",
    "dftype = data['host_acceptance_rate'].apply(lambda x: type(x).__name__)\n",
    "dftype.value_counts()\n",
    "\n",
    "#data telah berhasil dirubah menjadi int\n"
   ]
  },
  {
   "cell_type": "code",
   "execution_count": 19,
   "metadata": {},
   "outputs": [
    {
     "data": {
      "text/plain": [
       "Apartment             6401\n",
       "House                 1723\n",
       "Hostel                 755\n",
       "Condominium            349\n",
       "Hotel                  156\n",
       "Boutique hotel         142\n",
       "Aparthotel             132\n",
       "Serviced apartment     128\n",
       "Ryokan (Japan)         101\n",
       "Villa                  101\n",
       "Guesthouse              47\n",
       "Loft                    41\n",
       "Hut                     37\n",
       "Townhouse               23\n",
       "Bed and breakfast       16\n",
       "Tiny house              14\n",
       "Guest suite             11\n",
       "Bungalow                 5\n",
       "Cabin                    4\n",
       "Dome house               3\n",
       "Tent                     3\n",
       "Nature lodge             3\n",
       "Cottage                  1\n",
       "Camper/RV                1\n",
       "Other                    1\n",
       "Dorm                     1\n",
       "Name: property_type, dtype: int64"
      ]
     },
     "execution_count": 19,
     "metadata": {},
     "output_type": "execute_result"
    }
   ],
   "source": [
    "#data sudah benar tidak ada data kotor lagi\n",
    "data['property_type'].value_counts() # menghitung jumlah setiap value"
   ]
  },
  {
   "cell_type": "code",
   "execution_count": 20,
   "metadata": {},
   "outputs": [
    {
     "data": {
      "text/plain": [
       "Entire home/apt    7408\n",
       "Private room       1894\n",
       "Hotel room          508\n",
       "Shared room         389\n",
       "Name: room_type, dtype: int64"
      ]
     },
     "execution_count": 20,
     "metadata": {},
     "output_type": "execute_result"
    }
   ],
   "source": [
    "#data sudah benar tidak ada data kotor lagi\n",
    "data['room_type'].value_counts() # menghitung jumlah setiap species"
   ]
  },
  {
   "cell_type": "code",
   "execution_count": 21,
   "metadata": {},
   "outputs": [
    {
     "data": {
      "text/plain": [
       "2     2523\n",
       "3     1728\n",
       "4     1689\n",
       "6      961\n",
       "5      699\n",
       "1      696\n",
       "8      502\n",
       "7      325\n",
       "10     302\n",
       "16     202\n",
       "9      191\n",
       "12     166\n",
       "11      78\n",
       "14      54\n",
       "13      43\n",
       "15      40\n",
       "Name: accommodates, dtype: int64"
      ]
     },
     "execution_count": 21,
     "metadata": {},
     "output_type": "execute_result"
    }
   ],
   "source": [
    "#tidak ada data kotor lagi tapi belom dirubah jadi int\n",
    "data['accommodates'].value_counts() # menghitung jumlah setiap value"
   ]
  },
  {
   "cell_type": "code",
   "execution_count": 22,
   "metadata": {},
   "outputs": [
    {
     "data": {
      "text/plain": [
       "int    10199\n",
       "Name: accommodates, dtype: int64"
      ]
     },
     "execution_count": 22,
     "metadata": {},
     "output_type": "execute_result"
    }
   ],
   "source": [
    "#Merubah str menjadi int agar bsa diencode\n",
    "\n",
    "for i in range(len(data['accommodates'])):\n",
    "    data['accommodates'][i] = int(data['accommodates'][i])\n",
    "    \n",
    "dftype = data['accommodates'].apply(lambda x: type(x).__name__)\n",
    "dftype.value_counts()\n",
    "#data elah berhasil dirubah dari str jadi int"
   ]
  },
  {
   "cell_type": "code",
   "execution_count": 23,
   "metadata": {},
   "outputs": [
    {
     "data": {
      "text/plain": [
       "1       7177\n",
       "1.5     1334\n",
       "2        895\n",
       "3        225\n",
       "0        131\n",
       "0.5      117\n",
       "2.5       92\n",
       "4         79\n",
       "7         42\n",
       "8         26\n",
       "3.5       19\n",
       "4.5       16\n",
       "10        12\n",
       "7.5        9\n",
       "6          7\n",
       "5          6\n",
       "24         2\n",
       "9          1\n",
       "15.5       1\n",
       "6.5        1\n",
       "13         1\n",
       "5.5        1\n",
       "50         1\n",
       "16         1\n",
       "19.5       1\n",
       "13.5       1\n",
       "9.5        1\n",
       "Name: bathrooms, dtype: int64"
      ]
     },
     "execution_count": 23,
     "metadata": {},
     "output_type": "execute_result"
    }
   ],
   "source": [
    "#tidak ada data kotor lagi tapi belom dirubah jadi int\n",
    "#menurut saya bathrooms ada 1.5 sudah benar karena terdapat shared room \n",
    "data['bathrooms'].value_counts() # menghitung jumlah setiap value"
   ]
  },
  {
   "cell_type": "code",
   "execution_count": 24,
   "metadata": {},
   "outputs": [
    {
     "data": {
      "text/plain": [
       "float    10199\n",
       "Name: bathrooms, dtype: int64"
      ]
     },
     "execution_count": 24,
     "metadata": {},
     "output_type": "execute_result"
    }
   ],
   "source": [
    "#Merubah str menjadi float karena ada nilai decimal agar bsa diencode\n",
    "\n",
    "for i in range(len(data['bathrooms'])):\n",
    "    data['bathrooms'][i] = float(data['bathrooms'][i])\n",
    "    \n",
    "dftype = data['bathrooms'].apply(lambda x: type(x).__name__)\n",
    "dftype.value_counts()\n",
    "#data berhasil dirubah jadi float"
   ]
  },
  {
   "cell_type": "code",
   "execution_count": 25,
   "metadata": {},
   "outputs": [
    {
     "data": {
      "text/plain": [
       "1     6550\n",
       "2     1466\n",
       "0     1061\n",
       "3      695\n",
       "4      259\n",
       "5       85\n",
       "6       37\n",
       "7       11\n",
       "8       11\n",
       "9        6\n",
       "13       3\n",
       "10       3\n",
       "50       2\n",
       "24       2\n",
       "49       1\n",
       "11       1\n",
       "35       1\n",
       "12       1\n",
       "36       1\n",
       "30       1\n",
       "18       1\n",
       "16       1\n",
       "Name: bedrooms, dtype: int64"
      ]
     },
     "execution_count": 25,
     "metadata": {},
     "output_type": "execute_result"
    }
   ],
   "source": [
    "#tidak ada data kotor lagi tapi belom dirubah jadi int\n",
    "data['bedrooms'].value_counts() # menghitung jumlah setiap species\n"
   ]
  },
  {
   "cell_type": "code",
   "execution_count": 26,
   "metadata": {},
   "outputs": [
    {
     "data": {
      "text/plain": [
       "int    10199\n",
       "Name: bedrooms, dtype: int64"
      ]
     },
     "execution_count": 26,
     "metadata": {},
     "output_type": "execute_result"
    }
   ],
   "source": [
    "#merubah str menjadi int \n",
    "for i in range(len(data['bedrooms'])):\n",
    "    data['bedrooms'][i] = int(data['bedrooms'][i])\n",
    "    \n",
    "dftype = data['bedrooms'].apply(lambda x: type(x).__name__)\n",
    "dftype.value_counts()"
   ]
  },
  {
   "cell_type": "code",
   "execution_count": 27,
   "metadata": {},
   "outputs": [
    {
     "data": {
      "text/plain": [
       "2     3192\n",
       "1     2686\n",
       "3     1334\n",
       "4     1056\n",
       "5      463\n",
       "0      461\n",
       "6      374\n",
       "8      174\n",
       "7      167\n",
       "9       80\n",
       "10      79\n",
       "12      38\n",
       "11      33\n",
       "13      11\n",
       "14      11\n",
       "16      10\n",
       "24       7\n",
       "50       5\n",
       "15       4\n",
       "20       3\n",
       "18       3\n",
       "22       2\n",
       "36       2\n",
       "56       2\n",
       "35       1\n",
       "17       1\n",
       "Name: beds, dtype: int64"
      ]
     },
     "execution_count": 27,
     "metadata": {},
     "output_type": "execute_result"
    }
   ],
   "source": [
    "#tidak ada data kotor lagi\n",
    "data['beds'].value_counts() # menghitung jumlah setiap species"
   ]
  },
  {
   "cell_type": "code",
   "execution_count": 28,
   "metadata": {},
   "outputs": [
    {
     "data": {
      "text/plain": [
       "int    10199\n",
       "Name: beds, dtype: int64"
      ]
     },
     "execution_count": 28,
     "metadata": {},
     "output_type": "execute_result"
    }
   ],
   "source": [
    "#merubah str menjadi int \n",
    "\n",
    "for i in range(len(data['beds'])):\n",
    "    data['beds'][i] = int(data['beds'][i])\n",
    "    \n",
    "dftype = data['beds'].apply(lambda x: type(x).__name__)\n",
    "dftype.value_counts()"
   ]
  },
  {
   "cell_type": "code",
   "execution_count": 29,
   "metadata": {},
   "outputs": [
    {
     "data": {
      "text/plain": [
       "$9,975.00     405\n",
       "$49,984.00    356\n",
       "$12,013.00    272\n",
       "$19,951.00    256\n",
       "$9,947.00     232\n",
       "             ... \n",
       "$5,774.00       1\n",
       "$17,376.00      1\n",
       "$22,247.00      1\n",
       "$73,796.00      1\n",
       "$35,831.00      1\n",
       "Name: price, Length: 596, dtype: int64"
      ]
     },
     "execution_count": 29,
     "metadata": {},
     "output_type": "execute_result"
    }
   ],
   "source": [
    "#tidak ada data kotor lagi tp masih bentuk str harus dirubah jadi int dan megnhilangkan tanda $ nya \n",
    "\n",
    "data['price'].value_counts() # menghitung jumlah setiap price"
   ]
  },
  {
   "cell_type": "code",
   "execution_count": 30,
   "metadata": {},
   "outputs": [
    {
     "data": {
      "text/plain": [
       "float    10199\n",
       "Name: price, dtype: int64"
      ]
     },
     "execution_count": 30,
     "metadata": {},
     "output_type": "execute_result"
    }
   ],
   "source": [
    "#merubah str menjadi float \n",
    "data['price'] = data['price'].str.replace('$', '') #mengubah tanda $ menjadi kosong\n",
    "data['price'] = data['price'].str.replace(',', '') #mengubah tanda , menjadi kosong\n",
    "\n",
    "for i in range(len(data['price'])):\n",
    "   data['price'][i] = float(data['price'][i])\n",
    "    \n",
    "dftype = data['price'].apply(lambda x: type(x).__name__)\n",
    "dftype.value_counts()\n",
    "#data berhasil dirubah jadi float"
   ]
  },
  {
   "cell_type": "code",
   "execution_count": 31,
   "metadata": {},
   "outputs": [
    {
     "data": {
      "text/plain": [
       "1      5845\n",
       "2      2878\n",
       "3       563\n",
       "30      443\n",
       "4        91\n",
       "5        76\n",
       "7        74\n",
       "23       54\n",
       "6        49\n",
       "31       18\n",
       "28       17\n",
       "15       17\n",
       "14       16\n",
       "29       12\n",
       "20        8\n",
       "10        6\n",
       "12        6\n",
       "21        4\n",
       "25        3\n",
       "8         3\n",
       "90        3\n",
       "365       2\n",
       "13        2\n",
       "9         2\n",
       "360       1\n",
       "60        1\n",
       "24        1\n",
       "100       1\n",
       "33        1\n",
       "16        1\n",
       "99        1\n",
       "Name: minimum_nights, dtype: int64"
      ]
     },
     "execution_count": 31,
     "metadata": {},
     "output_type": "execute_result"
    }
   ],
   "source": [
    "#tidak ada data kotor lagi\n",
    "data['minimum_nights'].value_counts() # menghitung jumlah setiap minimum_nights"
   ]
  },
  {
   "cell_type": "code",
   "execution_count": 32,
   "metadata": {},
   "outputs": [
    {
     "data": {
      "text/plain": [
       "int    10199\n",
       "Name: minimum_nights, dtype: int64"
      ]
     },
     "execution_count": 32,
     "metadata": {},
     "output_type": "execute_result"
    }
   ],
   "source": [
    "#Merubah data str menjadi int \n",
    "for i in range(len(data['minimum_nights'])):\n",
    "    data['minimum_nights'][i] = int(data['minimum_nights'][i])\n",
    "\n",
    "dftype = data['minimum_nights'].apply(lambda x: type(x).__name__)\n",
    "dftype.value_counts()\n",
    "##beerhasil dirubah jadi int"
   ]
  },
  {
   "cell_type": "code",
   "execution_count": 33,
   "metadata": {},
   "outputs": [
    {
     "data": {
      "text/plain": [
       "1125    4677\n",
       "365     2012\n",
       "30       599\n",
       "90       406\n",
       "60       375\n",
       "        ... \n",
       "304        1\n",
       "66         1\n",
       "101        1\n",
       "1118       1\n",
       "146        1\n",
       "Name: maximum_nights, Length: 123, dtype: int64"
      ]
     },
     "execution_count": 33,
     "metadata": {},
     "output_type": "execute_result"
    }
   ],
   "source": [
    "##tidak ada data kotor lagi\n",
    "data['maximum_nights'].value_counts() # menghitung jumlah setiap maximum_nights"
   ]
  },
  {
   "cell_type": "code",
   "execution_count": 34,
   "metadata": {},
   "outputs": [
    {
     "data": {
      "text/plain": [
       "int    10199\n",
       "Name: maximum_nights, dtype: int64"
      ]
     },
     "execution_count": 34,
     "metadata": {},
     "output_type": "execute_result"
    }
   ],
   "source": [
    "#merubah data str menjadi int \n",
    "for i in range(len(data['maximum_nights'])):\n",
    "    data['maximum_nights'][i] = int(data['maximum_nights'][i])\n",
    "\n",
    "dftype = data['maximum_nights'].apply(lambda x: type(x).__name__)\n",
    "dftype.value_counts()\n",
    "#data berhasil dirubah"
   ]
  },
  {
   "cell_type": "code",
   "execution_count": 35,
   "metadata": {},
   "outputs": [
    {
     "data": {
      "text/plain": [
       "100    1732\n",
       "96      793\n",
       "95      779\n",
       "97      778\n",
       "98      748\n",
       "93      720\n",
       "94      579\n",
       "90      522\n",
       "99      455\n",
       "91      422\n",
       "92      422\n",
       "80      356\n",
       "89      271\n",
       "87      261\n",
       "88      250\n",
       "86      145\n",
       "85      143\n",
       "84      127\n",
       "83      127\n",
       "60       68\n",
       "82       67\n",
       "81       58\n",
       "73       47\n",
       "75       42\n",
       "70       40\n",
       "78       38\n",
       "77       34\n",
       "76       33\n",
       "79       23\n",
       "74       16\n",
       "71       15\n",
       "72       14\n",
       "67       12\n",
       "40       11\n",
       "20        9\n",
       "65        9\n",
       "50        7\n",
       "68        6\n",
       "69        6\n",
       "53        4\n",
       "64        3\n",
       "66        2\n",
       "63        1\n",
       "62        1\n",
       "30        1\n",
       "55        1\n",
       "57        1\n",
       "Name: review_scores_rating, dtype: int64"
      ]
     },
     "execution_count": 35,
     "metadata": {},
     "output_type": "execute_result"
    }
   ],
   "source": [
    "data['review_scores_rating'].value_counts() # menghitung jumlah setiap review_scores_rating"
   ]
  },
  {
   "cell_type": "code",
   "execution_count": 36,
   "metadata": {},
   "outputs": [
    {
     "data": {
      "text/plain": [
       "int    10199\n",
       "Name: review_scores_rating, dtype: int64"
      ]
     },
     "execution_count": 36,
     "metadata": {},
     "output_type": "execute_result"
    }
   ],
   "source": [
    "#merubah data str menjadi int\n",
    "for i in range(len(data['review_scores_rating'])):\n",
    "    data['review_scores_rating'][i] = int(data['review_scores_rating'][i])\n",
    "\n",
    "dftype = data['review_scores_rating'].apply(lambda x: type(x).__name__)\n",
    "dftype.value_counts()\n",
    "#berhasil dirubah jadi int "
   ]
  },
  {
   "cell_type": "code",
   "execution_count": 37,
   "metadata": {},
   "outputs": [
    {
     "data": {
      "text/plain": [
       "1        110\n",
       "0.25      65\n",
       "0.32      51\n",
       "0.27      51\n",
       "0.76      49\n",
       "        ... \n",
       "7.25       1\n",
       "6.43       1\n",
       "6.1        1\n",
       "4.93       1\n",
       "14.51      1\n",
       "Name: reviews_per_month, Length: 619, dtype: int64"
      ]
     },
     "execution_count": 37,
     "metadata": {},
     "output_type": "execute_result"
    }
   ],
   "source": [
    "#tidak ada data ktoor lagi \n",
    "data['reviews_per_month'].value_counts() # menghitung jumlah setiap reviews_per_month"
   ]
  },
  {
   "cell_type": "code",
   "execution_count": 38,
   "metadata": {},
   "outputs": [
    {
     "data": {
      "text/plain": [
       "float    10199\n",
       "Name: reviews_per_month, dtype: int64"
      ]
     },
     "execution_count": 38,
     "metadata": {},
     "output_type": "execute_result"
    }
   ],
   "source": [
    "#merubah data str menadji float\n",
    "for i in range(len(data['reviews_per_month'])):\n",
    "    data['reviews_per_month'][i] = float(data['reviews_per_month'][i])\n",
    "\n",
    "dftype = data['reviews_per_month'].apply(lambda x: type(x).__name__)\n",
    "dftype.value_counts()\n",
    "#berhasil dirubah jadi float"
   ]
  },
  {
   "cell_type": "code",
   "execution_count": 39,
   "metadata": {},
   "outputs": [
    {
     "data": {
      "text/plain": [
       "(10199, 14)"
      ]
     },
     "execution_count": 39,
     "metadata": {},
     "output_type": "execute_result"
    }
   ],
   "source": [
    "data.shape"
   ]
  },
  {
   "cell_type": "markdown",
   "metadata": {},
   "source": [
    "setelah data kotor sudang hilang semua, dan masing masing fitur telah dirubah jadi int yg seharusnya maka data sudah dapat di encode, jika data str blm menjadi int maka data tersebut tidak dapat di encode\n",
    "Karena agar bisa menggunkaan feature selection data tersebut harus diencode terlebih dahulu "
   ]
  },
  {
   "cell_type": "markdown",
   "metadata": {},
   "source": [
    "# Predict Price"
   ]
  },
  {
   "cell_type": "code",
   "execution_count": 40,
   "metadata": {},
   "outputs": [],
   "source": [
    "\n",
    "#Proses Encode data\n",
    "from sklearn.preprocessing import LabelEncoder\n",
    "le = LabelEncoder()\n",
    "\n",
    "#data\n",
    "#data_feature = ['price','review_scores_rating','host_response_time','host_response_rate','host_acceptance_rate','property_type','room_type','accommodates','bathrooms','bedrooms','beds','minimum_nights','maximum_nights','reviews_per_month']\n",
    "#meng encode data\" yang sudah saya pilih sebelumnya\n",
    "for c in data:\n",
    "    if data[c].dtype == 'O':\n",
    "        le = le.fit(data[c])\n",
    "        data[c] = le.transform(data[c])"
   ]
  },
  {
   "cell_type": "markdown",
   "metadata": {},
   "source": [
    "Proses encode telah berhasil seperti hasil dibawah ini "
   ]
  },
  {
   "cell_type": "code",
   "execution_count": 41,
   "metadata": {},
   "outputs": [
    {
     "data": {
      "text/html": [
       "<div>\n",
       "<style scoped>\n",
       "    .dataframe tbody tr th:only-of-type {\n",
       "        vertical-align: middle;\n",
       "    }\n",
       "\n",
       "    .dataframe tbody tr th {\n",
       "        vertical-align: top;\n",
       "    }\n",
       "\n",
       "    .dataframe thead th {\n",
       "        text-align: right;\n",
       "    }\n",
       "</style>\n",
       "<table border=\"1\" class=\"dataframe\">\n",
       "  <thead>\n",
       "    <tr style=\"text-align: right;\">\n",
       "      <th></th>\n",
       "      <th>host_response_time</th>\n",
       "      <th>host_response_rate</th>\n",
       "      <th>host_acceptance_rate</th>\n",
       "      <th>property_type</th>\n",
       "      <th>room_type</th>\n",
       "      <th>accommodates</th>\n",
       "      <th>bathrooms</th>\n",
       "      <th>bedrooms</th>\n",
       "      <th>beds</th>\n",
       "      <th>price</th>\n",
       "      <th>minimum_nights</th>\n",
       "      <th>maximum_nights</th>\n",
       "      <th>review_scores_rating</th>\n",
       "      <th>reviews_per_month</th>\n",
       "    </tr>\n",
       "  </thead>\n",
       "  <tbody>\n",
       "    <tr>\n",
       "      <th>0</th>\n",
       "      <td>2</td>\n",
       "      <td>29</td>\n",
       "      <td>44</td>\n",
       "      <td>1</td>\n",
       "      <td>0</td>\n",
       "      <td>1</td>\n",
       "      <td>2</td>\n",
       "      <td>1</td>\n",
       "      <td>2</td>\n",
       "      <td>199</td>\n",
       "      <td>2</td>\n",
       "      <td>95</td>\n",
       "      <td>41</td>\n",
       "      <td>155</td>\n",
       "    </tr>\n",
       "    <tr>\n",
       "      <th>1</th>\n",
       "      <td>2</td>\n",
       "      <td>29</td>\n",
       "      <td>38</td>\n",
       "      <td>1</td>\n",
       "      <td>0</td>\n",
       "      <td>1</td>\n",
       "      <td>2</td>\n",
       "      <td>1</td>\n",
       "      <td>1</td>\n",
       "      <td>60</td>\n",
       "      <td>20</td>\n",
       "      <td>78</td>\n",
       "      <td>41</td>\n",
       "      <td>116</td>\n",
       "    </tr>\n",
       "    <tr>\n",
       "      <th>2</th>\n",
       "      <td>1</td>\n",
       "      <td>29</td>\n",
       "      <td>49</td>\n",
       "      <td>1</td>\n",
       "      <td>0</td>\n",
       "      <td>1</td>\n",
       "      <td>2</td>\n",
       "      <td>0</td>\n",
       "      <td>1</td>\n",
       "      <td>116</td>\n",
       "      <td>20</td>\n",
       "      <td>103</td>\n",
       "      <td>41</td>\n",
       "      <td>137</td>\n",
       "    </tr>\n",
       "    <tr>\n",
       "      <th>3</th>\n",
       "      <td>2</td>\n",
       "      <td>29</td>\n",
       "      <td>38</td>\n",
       "      <td>1</td>\n",
       "      <td>0</td>\n",
       "      <td>1</td>\n",
       "      <td>2</td>\n",
       "      <td>1</td>\n",
       "      <td>1</td>\n",
       "      <td>56</td>\n",
       "      <td>20</td>\n",
       "      <td>78</td>\n",
       "      <td>42</td>\n",
       "      <td>110</td>\n",
       "    </tr>\n",
       "    <tr>\n",
       "      <th>4</th>\n",
       "      <td>1</td>\n",
       "      <td>29</td>\n",
       "      <td>49</td>\n",
       "      <td>15</td>\n",
       "      <td>0</td>\n",
       "      <td>2</td>\n",
       "      <td>2</td>\n",
       "      <td>2</td>\n",
       "      <td>2</td>\n",
       "      <td>139</td>\n",
       "      <td>20</td>\n",
       "      <td>103</td>\n",
       "      <td>42</td>\n",
       "      <td>49</td>\n",
       "    </tr>\n",
       "    <tr>\n",
       "      <th>...</th>\n",
       "      <td>...</td>\n",
       "      <td>...</td>\n",
       "      <td>...</td>\n",
       "      <td>...</td>\n",
       "      <td>...</td>\n",
       "      <td>...</td>\n",
       "      <td>...</td>\n",
       "      <td>...</td>\n",
       "      <td>...</td>\n",
       "      <td>...</td>\n",
       "      <td>...</td>\n",
       "      <td>...</td>\n",
       "      <td>...</td>\n",
       "      <td>...</td>\n",
       "    </tr>\n",
       "    <tr>\n",
       "      <th>95</th>\n",
       "      <td>3</td>\n",
       "      <td>29</td>\n",
       "      <td>53</td>\n",
       "      <td>1</td>\n",
       "      <td>0</td>\n",
       "      <td>1</td>\n",
       "      <td>2</td>\n",
       "      <td>1</td>\n",
       "      <td>1</td>\n",
       "      <td>167</td>\n",
       "      <td>2</td>\n",
       "      <td>102</td>\n",
       "      <td>44</td>\n",
       "      <td>455</td>\n",
       "    </tr>\n",
       "    <tr>\n",
       "      <th>96</th>\n",
       "      <td>3</td>\n",
       "      <td>29</td>\n",
       "      <td>53</td>\n",
       "      <td>1</td>\n",
       "      <td>0</td>\n",
       "      <td>1</td>\n",
       "      <td>2</td>\n",
       "      <td>1</td>\n",
       "      <td>1</td>\n",
       "      <td>167</td>\n",
       "      <td>2</td>\n",
       "      <td>122</td>\n",
       "      <td>45</td>\n",
       "      <td>98</td>\n",
       "    </tr>\n",
       "    <tr>\n",
       "      <th>97</th>\n",
       "      <td>3</td>\n",
       "      <td>29</td>\n",
       "      <td>45</td>\n",
       "      <td>1</td>\n",
       "      <td>0</td>\n",
       "      <td>2</td>\n",
       "      <td>2</td>\n",
       "      <td>1</td>\n",
       "      <td>3</td>\n",
       "      <td>45</td>\n",
       "      <td>4</td>\n",
       "      <td>8</td>\n",
       "      <td>35</td>\n",
       "      <td>70</td>\n",
       "    </tr>\n",
       "    <tr>\n",
       "      <th>98</th>\n",
       "      <td>3</td>\n",
       "      <td>29</td>\n",
       "      <td>56</td>\n",
       "      <td>24</td>\n",
       "      <td>0</td>\n",
       "      <td>6</td>\n",
       "      <td>2</td>\n",
       "      <td>3</td>\n",
       "      <td>4</td>\n",
       "      <td>284</td>\n",
       "      <td>2</td>\n",
       "      <td>45</td>\n",
       "      <td>38</td>\n",
       "      <td>221</td>\n",
       "    </tr>\n",
       "    <tr>\n",
       "      <th>99</th>\n",
       "      <td>3</td>\n",
       "      <td>29</td>\n",
       "      <td>55</td>\n",
       "      <td>1</td>\n",
       "      <td>0</td>\n",
       "      <td>4</td>\n",
       "      <td>2</td>\n",
       "      <td>1</td>\n",
       "      <td>2</td>\n",
       "      <td>175</td>\n",
       "      <td>1</td>\n",
       "      <td>95</td>\n",
       "      <td>45</td>\n",
       "      <td>418</td>\n",
       "    </tr>\n",
       "  </tbody>\n",
       "</table>\n",
       "<p>100 rows × 14 columns</p>\n",
       "</div>"
      ],
      "text/plain": [
       "    host_response_time  host_response_rate  host_acceptance_rate  \\\n",
       "0                    2                  29                    44   \n",
       "1                    2                  29                    38   \n",
       "2                    1                  29                    49   \n",
       "3                    2                  29                    38   \n",
       "4                    1                  29                    49   \n",
       "..                 ...                 ...                   ...   \n",
       "95                   3                  29                    53   \n",
       "96                   3                  29                    53   \n",
       "97                   3                  29                    45   \n",
       "98                   3                  29                    56   \n",
       "99                   3                  29                    55   \n",
       "\n",
       "    property_type  room_type  accommodates  bathrooms  bedrooms  beds  price  \\\n",
       "0               1          0             1          2         1     2    199   \n",
       "1               1          0             1          2         1     1     60   \n",
       "2               1          0             1          2         0     1    116   \n",
       "3               1          0             1          2         1     1     56   \n",
       "4              15          0             2          2         2     2    139   \n",
       "..            ...        ...           ...        ...       ...   ...    ...   \n",
       "95              1          0             1          2         1     1    167   \n",
       "96              1          0             1          2         1     1    167   \n",
       "97              1          0             2          2         1     3     45   \n",
       "98             24          0             6          2         3     4    284   \n",
       "99              1          0             4          2         1     2    175   \n",
       "\n",
       "    minimum_nights  maximum_nights  review_scores_rating  reviews_per_month  \n",
       "0                2              95                    41                155  \n",
       "1               20              78                    41                116  \n",
       "2               20             103                    41                137  \n",
       "3               20              78                    42                110  \n",
       "4               20             103                    42                 49  \n",
       "..             ...             ...                   ...                ...  \n",
       "95               2             102                    44                455  \n",
       "96               2             122                    45                 98  \n",
       "97               4               8                    35                 70  \n",
       "98               2              45                    38                221  \n",
       "99               1              95                    45                418  \n",
       "\n",
       "[100 rows x 14 columns]"
      ]
     },
     "execution_count": 41,
     "metadata": {},
     "output_type": "execute_result"
    }
   ],
   "source": [
    "#Berhasil terencode semua datanya, saya sudah cek satu\" persatu dengan value.count semua fitur berhasil terencode dengan baik\n",
    "data.head(100)"
   ]
  },
  {
   "cell_type": "code",
   "execution_count": 42,
   "metadata": {},
   "outputs": [],
   "source": [
    "#train split data dengan train 80% test 20%\n",
    "#train, test = train_test_split(data, test_size = 0.2)\n"
   ]
  },
  {
   "cell_type": "markdown",
   "metadata": {},
   "source": [
    "References : https://medium.com/@mitaartmitaart/klasifikasi-logistic-regression-menggunakan-python-iris-dataset-278ce9da2c25\n",
    "\n",
    "\n",
    "\n",
    "Langkah pertama saya  adalah melakukan pemisahan data untuk training dan testing. Mengapa ini penting? Hal ini diperlukan agar kita bisa melihat bagaimana algoritma belajar untuk melakukan prediksi pada testing data. Kita akan membagi data menjadi 80% training dan 20% testing menggunakan fungsi train_test_split() dari sklearn.model_selection. \n",
    "\n",
    "Saya menggunakan feature selection RFE dan menghasilkan 8 fitur terbaik seperti dibawah untuk memprediksi nilai price,\n",
    "\n",
    "Alasan saya menggunakan RFE adalah karena RFE sangat cocok pada kasus logistic regression, karena logistic regression adalah algoritma klasifikasi Machine Learning yang digunakan untuk memprediksi probabilitas variabel dependen kategoris, jadi RFE akan berulang kali membangun model dan memilih fitur terbaik atau terburuk, mengesampingkan fitur dan kemudian mengulangi proses dengan sisa fitur. Proses ini diterapkan hingga semua fitur dalam dataset habis. Sehingga RFE akan memilih fitur dengan secara rekursif mempertimbangkan set fitur yang lebih kecil dan lebih kecil.\n",
    "\n",
    "\n",
    "langkah berikutnya yaitu melakukan train pada data yang ada menggunakan algoritma logistic regression"
   ]
  },
  {
   "cell_type": "code",
   "execution_count": 43,
   "metadata": {},
   "outputs": [],
   "source": [
    "#array = dataframe.values\n",
    "x = data[['host_response_time','host_response_rate','host_acceptance_rate','property_type','room_type','accommodates','bathrooms','bedrooms','beds','minimum_nights','maximum_nights','reviews_per_month']]\n",
    "y = data[['price']]\n"
   ]
  },
  {
   "cell_type": "code",
   "execution_count": 44,
   "metadata": {},
   "outputs": [],
   "source": [
    "#Import your necessary dependencies\n",
    "from sklearn.feature_selection import RFE\n",
    "from sklearn.linear_model import LogisticRegression"
   ]
  },
  {
   "cell_type": "code",
   "execution_count": 45,
   "metadata": {
    "scrolled": false
   },
   "outputs": [],
   "source": [
    "#x,y= train_test_split(data,test_size = 0.2,random_state=42)\n",
    "#print(train.shape)\n",
    "#print(test.shape)"
   ]
  },
  {
   "cell_type": "code",
   "execution_count": 46,
   "metadata": {},
   "outputs": [],
   "source": [
    "xtrain,xtest,ytrain,ytest = train_test_split(x,y,test_size = 0.2)"
   ]
  },
  {
   "cell_type": "markdown",
   "metadata": {
    "scrolled": true
   },
   "source": []
  },
  {
   "cell_type": "code",
   "execution_count": 47,
   "metadata": {
    "scrolled": true
   },
   "outputs": [
    {
     "name": "stderr",
     "output_type": "stream",
     "text": [
      "D:\\Anaconda3\\lib\\site-packages\\sklearn\\utils\\validation.py:760: DataConversionWarning: A column-vector y was passed when a 1d array was expected. Please change the shape of y to (n_samples, ), for example using ravel().\n",
      "  y = column_or_1d(y, warn=True)\n"
     ]
    },
    {
     "name": "stdout",
     "output_type": "stream",
     "text": [
      "Fitting estimator with 12 features.\n"
     ]
    },
    {
     "name": "stderr",
     "output_type": "stream",
     "text": [
      "D:\\Anaconda3\\lib\\site-packages\\sklearn\\linear_model\\_logistic.py:940: ConvergenceWarning: lbfgs failed to converge (status=1):\n",
      "STOP: TOTAL NO. of ITERATIONS REACHED LIMIT.\n",
      "\n",
      "Increase the number of iterations (max_iter) or scale the data as shown in:\n",
      "    https://scikit-learn.org/stable/modules/preprocessing.html\n",
      "Please also refer to the documentation for alternative solver options:\n",
      "    https://scikit-learn.org/stable/modules/linear_model.html#logistic-regression\n",
      "  extra_warning_msg=_LOGISTIC_SOLVER_CONVERGENCE_MSG)\n"
     ]
    },
    {
     "name": "stdout",
     "output_type": "stream",
     "text": [
      "8 ['host_response_rate', 'host_acceptance_rate', 'property_type', 'accommodates', 'beds', 'minimum_nights', 'maximum_nights', 'reviews_per_month']\n"
     ]
    },
    {
     "name": "stderr",
     "output_type": "stream",
     "text": [
      "D:\\Anaconda3\\lib\\site-packages\\sklearn\\linear_model\\_logistic.py:940: ConvergenceWarning: lbfgs failed to converge (status=1):\n",
      "STOP: TOTAL NO. of ITERATIONS REACHED LIMIT.\n",
      "\n",
      "Increase the number of iterations (max_iter) or scale the data as shown in:\n",
      "    https://scikit-learn.org/stable/modules/preprocessing.html\n",
      "Please also refer to the documentation for alternative solver options:\n",
      "    https://scikit-learn.org/stable/modules/linear_model.html#logistic-regression\n",
      "  extra_warning_msg=_LOGISTIC_SOLVER_CONVERGENCE_MSG)\n"
     ]
    }
   ],
   "source": [
    "from sklearn.feature_selection import RFE\n",
    "from sklearn.linear_model import LogisticRegression\n",
    "rfe_selector = RFE(estimator=LogisticRegression(), n_features_to_select=8, step=8, verbose=5)\n",
    "rfe_selector.fit(xtrain, ytrain)\n",
    "rfe_support = rfe_selector.get_support()\n",
    "rfe_feature = x.loc[:,rfe_support].columns.tolist()\n",
    "\n",
    "print(str(len(rfe_feature)),rfe_feature)\n",
    "\n",
    "\n",
    "# Hasilnya 8 fitur teratas ini\n",
    "# 8 ['host_response_rate', 'host_acceptance_rate', 'property_type', 'accommodates', 'beds', 'minimum_nights', 'maximum_nights', 'reviews_per_month']"
   ]
  },
  {
   "cell_type": "markdown",
   "metadata": {},
   "source": [
    " Hasilnya 8 fitur teratas ini\n",
    "8['host_response_rate', 'host_acceptance_rate', 'property_type', 'accommodates', 'beds', 'minimum_nights', 'maximum_nights', 'reviews_per_month']\n",
    "\n"
   ]
  },
  {
   "cell_type": "code",
   "execution_count": 48,
   "metadata": {},
   "outputs": [],
   "source": [
    "#Setelah berhasil terpilih 8 fitur terbaik di LogisticRegression\n",
    "\n",
    "#Train data terbaru setelah terpilih 8 fitur dari 12 fitur\n",
    "x_model1 = data[['host_response_rate', 'host_acceptance_rate', 'property_type', 'accommodates', 'beds', 'minimum_nights', 'maximum_nights', 'reviews_per_month']]\n",
    "y_model1 = data[['price']]\n",
    "\n",
    "X_train1, X_test1, y_train1, y_test1 = train_test_split(x_model1, y_model1, test_size=0.2, random_state=42)\n"
   ]
  },
  {
   "cell_type": "code",
   "execution_count": null,
   "metadata": {},
   "outputs": [],
   "source": []
  },
  {
   "cell_type": "code",
   "execution_count": 49,
   "metadata": {},
   "outputs": [
    {
     "name": "stderr",
     "output_type": "stream",
     "text": [
      "D:\\Anaconda3\\lib\\site-packages\\sklearn\\utils\\validation.py:760: DataConversionWarning: A column-vector y was passed when a 1d array was expected. Please change the shape of y to (n_samples, ), for example using ravel().\n",
      "  y = column_or_1d(y, warn=True)\n"
     ]
    },
    {
     "name": "stdout",
     "output_type": "stream",
     "text": [
      "Nilai model logistic regression classifier 0.056476125110304934\n"
     ]
    },
    {
     "name": "stderr",
     "output_type": "stream",
     "text": [
      "D:\\Anaconda3\\lib\\site-packages\\sklearn\\linear_model\\_logistic.py:940: ConvergenceWarning: lbfgs failed to converge (status=1):\n",
      "STOP: TOTAL NO. of ITERATIONS REACHED LIMIT.\n",
      "\n",
      "Increase the number of iterations (max_iter) or scale the data as shown in:\n",
      "    https://scikit-learn.org/stable/modules/preprocessing.html\n",
      "Please also refer to the documentation for alternative solver options:\n",
      "    https://scikit-learn.org/stable/modules/linear_model.html#logistic-regression\n",
      "  extra_warning_msg=_LOGISTIC_SOLVER_CONVERGENCE_MSG)\n"
     ]
    }
   ],
   "source": [
    "#implement LogisticRegression\n",
    "from sklearn import metrics\n",
    "from sklearn.metrics import accuracy_score\n",
    "\n",
    "model1 = LogisticRegression()\n",
    "model1.fit(X_train1, y_train1)\n",
    "ypredict = model1.predict(X_test1)\n",
    "print('Nilai model logistic regression classifier',model1.score(x_model1,y_model1))\n"
   ]
  },
  {
   "cell_type": "code",
   "execution_count": 50,
   "metadata": {},
   "outputs": [],
   "source": [
    "from sklearn.metrics import classification_report\n",
    "#test the model\n",
    "#predictions = model1.predict(X_test1)\n",
    "#print(predictions)\n",
    "\n",
    "#print()\n",
    "\n",
    "#check precision, recall, f1-score\n",
    "#print(classification_report(y_test1, predictions))\n",
    "#print(\"accuracy: \", accuracy_score(y_test1, predictions))"
   ]
  },
  {
   "cell_type": "code",
   "execution_count": 51,
   "metadata": {},
   "outputs": [
    {
     "name": "stdout",
     "output_type": "stream",
     "text": [
      "Mean Absolute Error (MAE):  153.5406862745098\n",
      "Mean Squared Error (MSE):  43149.02009803922\n"
     ]
    }
   ],
   "source": [
    "print(\"Mean Absolute Error (MAE): \", mean_absolute_error(y_test1, ypredict))\n",
    "print(\"Mean Squared Error (MSE): \", mean_squared_error(y_test1, ypredict))"
   ]
  },
  {
   "cell_type": "markdown",
   "metadata": {},
   "source": [
    "Kesimpulan:\n",
    "Setelah data kotor hilang data tersebut saya encode, langkah pertama yg saya lakukan adalah menggunakan feature selection dari RFE dan saya mengambil 8 fitur terbaik, lalu setelah itu saya train dengan LogisticRegression\n",
    "setelah itu saya menggunakan metrics :\n",
    "Mean Absolute Error (MAE):  153.5406862745098\n",
    "Mean Squared Error (MSE):  43149.02009803922\n",
    "\n",
    "metrics yg paling cocok pada regression adalah MSE dan MAE, Karena MSE karena Ini pada dasarnya jumlah jarak kuadrat antara variabel target dan nilai prediksi.\n",
    "Dengan model logistic regression diatas yang menggunakan price sebagai targetnya\n",
    "\n",
    "\n",
    "Data telah berhasil di train dan hasilnyya adalah\n",
    "Nilai model logistic regression classifier 0.056476125110304934\n",
    "\n",
    "Menunjukan hasilnya sekitaran 5% kecil karena fitur yg saya pakai semakin dkit, 8 dari 30 fitur sehingga menghasilkan hasil yang kecil.. hal tersebut bisa terjadi karena kebetulan beberapa fitur yang saya pilih tidak menghasilkan hasil yg akurat.\n"
   ]
  },
  {
   "cell_type": "markdown",
   "metadata": {},
   "source": [
    "# Predict Review Scores Rating"
   ]
  },
  {
   "cell_type": "markdown",
   "metadata": {},
   "source": [
    "Dengan cara Menggunakan Feature selection SelectKbest untuk classification, saya mengambil 8 fitur terbaik dari hal tersebut menghasilkan :\n",
    " ['property_type', 'room_type', 'accommodates', 'bedrooms', 'beds', 'minimum_nights', 'maximum_nights', 'reviews_per_month'] dari 12 fitur \n",
    " \n",
    "\n",
    "SelectKbest adalah teknik di mana kami memilih fitur-fitur dalam data kami yang berkontribusi paling besar ke variabel target. Dengan kata lain saya memilih prediktor terbaik untuk variabel target.\n",
    "\n",
    "Alasan saya memilih SelectKbest karena SelectKbest adalah feature selection yang paling cocok digunakan pada klasifikasi. Sesuai sklearn metode ini menghapus semua kecuali fitur penilaian k tertinggi. Skor didasarkan pada tes statistik uni-variate. Di sini,  kami menggunakan fungsi penilaian Chi2\n",
    "\n",
    "saya membuat objek dari kelas SelectKBest dengan k = 8, yaitu kita ingin memilih 5 fitur penilaian terbaik. Fungsi skor adalah chi2. Selanjutnya kita muat objek KBest dengan variabel respon X dan matriks fitur lengkap Y.\n",
    "\n",
    "Lalu saya memakai metrics accuracy dan  Classification Metrics, \n",
    "Karena pada Akurasi hanya mengukur seberapa sering penggolong membuat prediksi yang benar. Ini adalah rasio antara jumlah prediksi yang benar dan jumlah total prediksi (jumlah titik data uji)\n",
    "\n",
    "precision adalah fraksi dari instance yang relevan di antara instance yang diambil, sementara recall (juga dikenal sebagai sensitivitas) adalah fraksi dari total jumlah instance relevan yang sebenarnya diambil.\n",
    "\n",
    "f1-score : mendapatkan skor tunggal yang mewakili Presisi (P) dan Ingat (R). Salah satu cara untuk melakukannya adalah \n",
    "dengan mengambil rata-rata aritmatika mereka\n",
    "\n",
    "\n"
   ]
  },
  {
   "cell_type": "code",
   "execution_count": null,
   "metadata": {},
   "outputs": [],
   "source": []
  },
  {
   "cell_type": "code",
   "execution_count": 52,
   "metadata": {},
   "outputs": [],
   "source": [
    "from sklearn.feature_selection import SelectKBest\n",
    "from sklearn.feature_selection import chi2"
   ]
  },
  {
   "cell_type": "code",
   "execution_count": 53,
   "metadata": {},
   "outputs": [
    {
     "name": "stdout",
     "output_type": "stream",
     "text": [
      "8 ['property_type', 'room_type', 'accommodates', 'bedrooms', 'beds', 'minimum_nights', 'maximum_nights', 'reviews_per_month']\n"
     ]
    }
   ],
   "source": [
    "from sklearn.feature_selection import SelectKBest\n",
    "from sklearn.feature_selection import chi2\n",
    "from sklearn.preprocessing import MinMaxScaler\n",
    "X_norm = MinMaxScaler().fit_transform(x)\n",
    "chi_selector = SelectKBest(chi2, k=8)\n",
    "chi_selector.fit(xtrain,ytrain)\n",
    "chi_support = chi_selector.get_support()\n",
    "chi_feature = xtrain.loc[:,chi_support].columns.tolist()\n",
    "print(str(len(chi_feature)), chi_feature)\n",
    "\n",
    "\n",
    "#untuk classification menrutu saya lebih baik menggunakan selectKbest \n",
    "\n"
   ]
  },
  {
   "cell_type": "code",
   "execution_count": null,
   "metadata": {},
   "outputs": [],
   "source": []
  },
  {
   "cell_type": "code",
   "execution_count": 54,
   "metadata": {},
   "outputs": [],
   "source": [
    "from sklearn.neighbors import KNeighborsClassifier\n",
    "from sklearn.svm import SVC\n",
    "from sklearn.tree import DecisionTreeClassifier\n",
    "from sklearn.tree import ExtraTreeClassifier\n",
    "from sklearn.preprocessing import OneHotEncoder, MinMaxScaler, OrdinalEncoder, StandardScaler\n",
    "from sklearn.decomposition import PCA"
   ]
  },
  {
   "cell_type": "code",
   "execution_count": 55,
   "metadata": {},
   "outputs": [],
   "source": [
    "#Model baru untuk classification\n",
    "x_model2 = data[['property_type', 'room_type', 'accommodates', 'bedrooms', 'beds', 'minimum_nights', 'maximum_nights', 'reviews_per_month']]\n",
    "y_model2 = data[['review_scores_rating']]\n",
    "\n",
    "X_train2, X_test2, y_train2, y_test2 = train_test_split(x_model2, y_model2, test_size=0.2, random_state=42)\n"
   ]
  },
  {
   "cell_type": "markdown",
   "metadata": {},
   "source": [
    "References : https://medium.com/iykra/mengenal-decision-tree-dan-manfaatnya-b98cf3cf6a8d#:~:text=Decision%20tree%20adalah%20salah%20satu,mudah%20untuk%20diinterpretasi%20oleh%20manusia.&text=Kelebihan%20lain%20dari%20metode%20ini,data%20yang%20kiranya%20tidak%20diperlukan.\n",
    "\n",
    "Alasan saya memilih Decision tree karena Decisiont tree adalah salah 1 metode yg cocok digunakan untuk klasifikasi. Decision tree adalah model prediksi menggunakan struktur pohon atau struktur berhirarki. kemampuannya untuk mem-break down proses pengambilan keputusan yang kompleks menjadi lebih simple, sehingga pengambil keputusan akan lebih menginterpretasikan solusi dari permasalahan.Klasifikasi ini sangat cocok untuk mengeliminasi perhitungan atau data-data yang kiranya tidak diperlukan. Sebab, sampel yang ada biasanya hanya diuji berdasarkan kriteria atau kelas tertentu saja."
   ]
  },
  {
   "cell_type": "code",
   "execution_count": 56,
   "metadata": {
    "scrolled": true
   },
   "outputs": [
    {
     "name": "stdout",
     "output_type": "stream",
     "text": [
      "[46 40 46 ... 46 46 39]\n",
      "              precision    recall  f1-score   support\n",
      "\n",
      "           0       0.00      0.00      0.00         2\n",
      "           3       0.00      0.00      0.00         1\n",
      "           7       0.00      0.00      0.00        12\n",
      "          10       0.00      0.00      0.00         1\n",
      "          12       0.00      0.00      0.00         1\n",
      "          13       0.00      0.00      0.00         1\n",
      "          14       0.00      0.00      0.00         1\n",
      "          16       0.00      0.00      0.00        11\n",
      "          17       0.00      0.00      0.00         5\n",
      "          18       0.00      0.00      0.00         5\n",
      "          19       0.00      0.00      0.00        11\n",
      "          20       0.00      0.00      0.00         4\n",
      "          21       0.00      0.00      0.00        10\n",
      "          22       0.00      0.00      0.00         9\n",
      "          23       0.00      0.00      0.00         5\n",
      "          24       0.00      0.00      0.00        10\n",
      "          25       0.00      0.00      0.00         4\n",
      "          26       0.20      0.13      0.16        67\n",
      "          27       0.00      0.00      0.00         6\n",
      "          28       0.50      0.06      0.10        18\n",
      "          29       0.14      0.04      0.06        28\n",
      "          30       0.00      0.00      0.00        30\n",
      "          31       0.11      0.03      0.04        36\n",
      "          32       0.00      0.00      0.00        24\n",
      "          33       0.00      0.00      0.00        54\n",
      "          34       0.00      0.00      0.00        48\n",
      "          35       0.00      0.00      0.00        47\n",
      "          36       0.05      0.03      0.03       109\n",
      "          37       0.05      0.04      0.04        79\n",
      "          38       0.06      0.02      0.03        85\n",
      "          39       0.06      0.10      0.07       136\n",
      "          40       0.09      0.14      0.11       121\n",
      "          41       0.09      0.14      0.11       171\n",
      "          42       0.09      0.07      0.08       166\n",
      "          43       0.08      0.07      0.08       151\n",
      "          44       0.13      0.14      0.14       146\n",
      "          45       0.12      0.08      0.09       104\n",
      "          46       0.33      0.63      0.44       321\n",
      "\n",
      "    accuracy                           0.16      2040\n",
      "   macro avg       0.06      0.05      0.04      2040\n",
      "weighted avg       0.12      0.16      0.13      2040\n",
      "\n",
      "accuracy:  0.16127450980392158\n"
     ]
    },
    {
     "name": "stderr",
     "output_type": "stream",
     "text": [
      "D:\\Anaconda3\\lib\\site-packages\\sklearn\\metrics\\_classification.py:1272: UndefinedMetricWarning: Precision and F-score are ill-defined and being set to 0.0 in labels with no predicted samples. Use `zero_division` parameter to control this behavior.\n",
      "  _warn_prf(average, modifier, msg_start, len(result))\n"
     ]
    }
   ],
   "source": [
    "ModelDecisionTree = DecisionTreeClassifier(random_state = 0,max_depth=12, min_samples_leaf=12)\n",
    "ModelDecisionTree.fit(X_train2, y_train2)\n",
    "predictDCT = ModelDecisionTree.predict(X_test2)\n",
    "print(predictDCT)\n",
    "\n",
    "\n",
    "print(classification_report(y_test2, predictDCT))\n",
    "print(\"accuracy: \", accuracy_score(y_test2, predictDCT))"
   ]
  },
  {
   "cell_type": "markdown",
   "metadata": {},
   "source": [
    "ExtraTreeClassifier hampir sama dengan DecisionTree yang membedakan hanya Extratreeclassifier lebih cocok untuk data yang besar\n"
   ]
  },
  {
   "cell_type": "code",
   "execution_count": 57,
   "metadata": {},
   "outputs": [
    {
     "name": "stdout",
     "output_type": "stream",
     "text": [
      "[46 43 46 ... 46 46 46]\n",
      "              precision    recall  f1-score   support\n",
      "\n",
      "           0       0.00      0.00      0.00         2\n",
      "           3       0.00      0.00      0.00         1\n",
      "           7       0.00      0.00      0.00        12\n",
      "          10       0.00      0.00      0.00         1\n",
      "          12       0.00      0.00      0.00         1\n",
      "          13       0.00      0.00      0.00         1\n",
      "          14       0.00      0.00      0.00         1\n",
      "          16       0.00      0.00      0.00        11\n",
      "          17       0.00      0.00      0.00         5\n",
      "          18       0.00      0.00      0.00         5\n",
      "          19       0.00      0.00      0.00        11\n",
      "          20       0.00      0.00      0.00         4\n",
      "          21       0.00      0.00      0.00        10\n",
      "          22       0.00      0.00      0.00         9\n",
      "          23       0.00      0.00      0.00         5\n",
      "          24       0.00      0.00      0.00        10\n",
      "          25       0.00      0.00      0.00         4\n",
      "          26       0.00      0.00      0.00        67\n",
      "          27       0.00      0.00      0.00         6\n",
      "          28       0.00      0.00      0.00        18\n",
      "          29       0.00      0.00      0.00        28\n",
      "          30       0.00      0.00      0.00        30\n",
      "          31       0.00      0.00      0.00        36\n",
      "          32       0.00      0.00      0.00        24\n",
      "          33       0.00      0.00      0.00        54\n",
      "          34       0.08      0.02      0.03        48\n",
      "          35       0.00      0.00      0.00        47\n",
      "          36       0.18      0.03      0.05       109\n",
      "          37       0.07      0.03      0.04        79\n",
      "          38       0.50      0.01      0.02        85\n",
      "          39       0.12      0.01      0.01       136\n",
      "          40       0.00      0.00      0.00       121\n",
      "          41       0.08      0.09      0.08       171\n",
      "          42       0.12      0.10      0.11       166\n",
      "          43       0.11      0.19      0.13       151\n",
      "          44       0.12      0.23      0.16       146\n",
      "          45       0.38      0.03      0.05       104\n",
      "          46       0.26      0.85      0.40       321\n",
      "\n",
      "    accuracy                           0.18      2040\n",
      "   macro avg       0.05      0.04      0.03      2040\n",
      "weighted avg       0.14      0.18      0.11      2040\n",
      "\n",
      "accuracy:  0.18480392156862746\n"
     ]
    },
    {
     "name": "stderr",
     "output_type": "stream",
     "text": [
      "D:\\Anaconda3\\lib\\site-packages\\sklearn\\metrics\\_classification.py:1272: UndefinedMetricWarning: Precision and F-score are ill-defined and being set to 0.0 in labels with no predicted samples. Use `zero_division` parameter to control this behavior.\n",
      "  _warn_prf(average, modifier, msg_start, len(result))\n"
     ]
    }
   ],
   "source": [
    "\n",
    "ModelExDecisionTree = ExtraTreeClassifier(random_state = 0,max_depth=12, min_samples_leaf=12)\n",
    "ModelExDecisionTree.fit(X_train2, y_train2)\n",
    "predictEDCT = ModelExDecisionTree.predict(X_test2)\n",
    "print(predictEDCT)\n",
    "\n",
    "\n",
    "print(classification_report(y_test2, predictEDCT))\n",
    "print(\"accuracy: \", accuracy_score(y_test2, predictEDCT))"
   ]
  },
  {
   "cell_type": "markdown",
   "metadata": {},
   "source": [
    "Alasan saya memilih metode dibawah ini yaitu karena (SVM) merupakan salah satu metode dalam supervised learning yang biasanya digunakan untuk klasifikasi (seperti Support Vector Classification).SVM juga memiliki konsep yang matang dan jelas secara matematis,SVM digunakan untuk mencari hyperplane terbaik dengan memaksimalkan jarak antar kelas maka saya meemakai ini sebagai salah 1 metode klasifikasi saya"
   ]
  },
  {
   "cell_type": "code",
   "execution_count": 58,
   "metadata": {},
   "outputs": [
    {
     "name": "stderr",
     "output_type": "stream",
     "text": [
      "D:\\Anaconda3\\lib\\site-packages\\sklearn\\utils\\validation.py:760: DataConversionWarning: A column-vector y was passed when a 1d array was expected. Please change the shape of y to (n_samples, ), for example using ravel().\n",
      "  y = column_or_1d(y, warn=True)\n"
     ]
    },
    {
     "name": "stdout",
     "output_type": "stream",
     "text": [
      "[46 41 46 ... 46 46 46]\n",
      "\n",
      "              precision    recall  f1-score   support\n",
      "\n",
      "           0       0.00      0.00      0.00         2\n",
      "           3       0.00      0.00      0.00         1\n",
      "           7       0.00      0.00      0.00        12\n",
      "          10       0.00      0.00      0.00         1\n",
      "          12       0.00      0.00      0.00         1\n",
      "          13       0.00      0.00      0.00         1\n",
      "          14       0.00      0.00      0.00         1\n",
      "          16       0.00      0.00      0.00        11\n",
      "          17       0.00      0.00      0.00         5\n",
      "          18       0.00      0.00      0.00         5\n",
      "          19       0.00      0.00      0.00        11\n",
      "          20       0.00      0.00      0.00         4\n",
      "          21       0.00      0.00      0.00        10\n",
      "          22       0.00      0.00      0.00         9\n",
      "          23       0.00      0.00      0.00         5\n",
      "          24       0.00      0.00      0.00        10\n",
      "          25       0.00      0.00      0.00         4\n",
      "          26       0.00      0.00      0.00        67\n",
      "          27       0.00      0.00      0.00         6\n",
      "          28       0.00      0.00      0.00        18\n",
      "          29       0.00      0.00      0.00        28\n",
      "          30       0.00      0.00      0.00        30\n",
      "          31       0.00      0.00      0.00        36\n",
      "          32       0.00      0.00      0.00        24\n",
      "          33       0.00      0.00      0.00        54\n",
      "          34       0.00      0.00      0.00        48\n",
      "          35       0.00      0.00      0.00        47\n",
      "          36       0.00      0.00      0.00       109\n",
      "          37       0.00      0.00      0.00        79\n",
      "          38       0.00      0.00      0.00        85\n",
      "          39       0.11      0.04      0.06       136\n",
      "          40       0.00      0.00      0.00       121\n",
      "          41       0.09      0.18      0.12       171\n",
      "          42       0.04      0.03      0.04       166\n",
      "          43       0.12      0.18      0.14       151\n",
      "          44       0.10      0.06      0.08       146\n",
      "          45       0.00      0.00      0.00       104\n",
      "          46       0.24      0.91      0.38       321\n",
      "\n",
      "    accuracy                           0.18      2040\n",
      "   macro avg       0.02      0.04      0.02      2040\n",
      "weighted avg       0.07      0.18      0.09      2040\n",
      "\n",
      "accuracy:  0.1803921568627451\n"
     ]
    },
    {
     "name": "stderr",
     "output_type": "stream",
     "text": [
      "D:\\Anaconda3\\lib\\site-packages\\sklearn\\metrics\\_classification.py:1272: UndefinedMetricWarning: Precision and F-score are ill-defined and being set to 0.0 in labels with no predicted samples. Use `zero_division` parameter to control this behavior.\n",
      "  _warn_prf(average, modifier, msg_start, len(result))\n"
     ]
    }
   ],
   "source": [
    "ModelSVC = SVC(kernel='linear')\n",
    "ModelSVC.fit(X_train2, y_train2)\n",
    "\n",
    "\n",
    "predictclassSVC = ModelSVC.predict(X_test2)\n",
    "print(predictclassSVC)\n",
    "print()\n",
    "\n",
    "#check precision, recall, f1-score\n",
    "print(classification_report(y_test2, predictclassSVC))\n",
    "print(\"accuracy: \", accuracy_score(y_test2, predictclassSVC))"
   ]
  },
  {
   "cell_type": "code",
   "execution_count": 59,
   "metadata": {},
   "outputs": [
    {
     "name": "stderr",
     "output_type": "stream",
     "text": [
      "D:\\Anaconda3\\lib\\site-packages\\ipykernel_launcher.py:3: DataConversionWarning: A column-vector y was passed when a 1d array was expected. Please change the shape of y to (n_samples, ), for example using ravel().\n",
      "  This is separate from the ipykernel package so we can avoid doing imports until\n"
     ]
    },
    {
     "name": "stdout",
     "output_type": "stream",
     "text": [
      "[46 43 46 ... 46 46 43]\n",
      "\n",
      "              precision    recall  f1-score   support\n",
      "\n",
      "           0       0.00      0.00      0.00         2\n",
      "           3       0.00      0.00      0.00         1\n",
      "           7       0.00      0.00      0.00        12\n",
      "          10       0.00      0.00      0.00         1\n",
      "          12       0.00      0.00      0.00         1\n",
      "          13       0.00      0.00      0.00         1\n",
      "          14       0.00      0.00      0.00         1\n",
      "          16       0.00      0.00      0.00        11\n",
      "          17       0.00      0.00      0.00         5\n",
      "          18       0.00      0.00      0.00         5\n",
      "          19       0.00      0.00      0.00        11\n",
      "          20       0.00      0.00      0.00         4\n",
      "          21       0.00      0.00      0.00        10\n",
      "          22       0.00      0.00      0.00         9\n",
      "          23       0.00      0.00      0.00         5\n",
      "          24       0.00      0.00      0.00        10\n",
      "          25       0.00      0.00      0.00         4\n",
      "          26       0.00      0.00      0.00        67\n",
      "          27       0.00      0.00      0.00         6\n",
      "          28       0.00      0.00      0.00        18\n",
      "          29       0.00      0.00      0.00        28\n",
      "          30       0.00      0.00      0.00        30\n",
      "          31       0.00      0.00      0.00        36\n",
      "          32       0.00      0.00      0.00        24\n",
      "          33       0.00      0.00      0.00        54\n",
      "          34       0.00      0.00      0.00        48\n",
      "          35       0.00      0.00      0.00        47\n",
      "          36       0.00      0.00      0.00       109\n",
      "          37       0.00      0.00      0.00        79\n",
      "          38       0.00      0.00      0.00        85\n",
      "          39       0.17      0.01      0.03       136\n",
      "          40       0.08      0.03      0.05       121\n",
      "          41       0.08      0.11      0.10       171\n",
      "          42       0.11      0.15      0.12       166\n",
      "          43       0.11      0.22      0.14       151\n",
      "          44       0.13      0.16      0.15       146\n",
      "          45       0.00      0.00      0.00       104\n",
      "          46       0.26      0.84      0.40       321\n",
      "\n",
      "    accuracy                           0.19      2040\n",
      "   macro avg       0.02      0.04      0.03      2040\n",
      "weighted avg       0.09      0.19      0.11      2040\n",
      "\n",
      "accuracy:  0.18529411764705883\n"
     ]
    },
    {
     "name": "stderr",
     "output_type": "stream",
     "text": [
      "D:\\Anaconda3\\lib\\site-packages\\sklearn\\metrics\\_classification.py:1272: UndefinedMetricWarning: Precision and F-score are ill-defined and being set to 0.0 in labels with no predicted samples. Use `zero_division` parameter to control this behavior.\n",
      "  _warn_prf(average, modifier, msg_start, len(result))\n"
     ]
    }
   ],
   "source": [
    "#Untuk penjelasan model ini saya jelaskan dibagian bawah \n",
    "ModelKN = KNeighborsClassifier(n_neighbors = 300 )\n",
    "ModelKN.fit(X_train2,y_train2)\n",
    "#predictionsclass = classifier.predict(X_test2)\n",
    "\n",
    "predictionsclass = ModelKN.predict(X_test2)\n",
    "print(predictionsclass)\n",
    "print()\n",
    "\n",
    "#check precision, recall, f1-score\n",
    "print(classification_report(y_test2, predictionsclass))\n",
    "print(\"accuracy: \", accuracy_score(y_test2, predictionsclass))"
   ]
  },
  {
   "cell_type": "code",
   "execution_count": 60,
   "metadata": {},
   "outputs": [
    {
     "name": "stderr",
     "output_type": "stream",
     "text": [
      "D:\\Anaconda3\\lib\\site-packages\\sklearn\\naive_bayes.py:206: DataConversionWarning: A column-vector y was passed when a 1d array was expected. Please change the shape of y to (n_samples, ), for example using ravel().\n",
      "  y = column_or_1d(y, warn=True)\n"
     ]
    },
    {
     "name": "stdout",
     "output_type": "stream",
     "text": [
      "[15 40 46 ... 15 46 15]\n",
      "\n",
      "              precision    recall  f1-score   support\n",
      "\n",
      "           0       0.01      1.00      0.02         2\n",
      "           2       0.00      0.00      0.00         0\n",
      "           3       0.00      0.00      0.00         1\n",
      "           4       0.00      0.00      0.00         0\n",
      "           7       0.00      0.00      0.00        12\n",
      "          10       0.00      0.00      0.00         1\n",
      "          11       0.00      0.00      0.00         0\n",
      "          12       0.00      0.00      0.00         1\n",
      "          13       0.00      0.00      0.00         1\n",
      "          14       0.00      0.00      0.00         1\n",
      "          15       0.00      0.00      0.00         0\n",
      "          16       0.00      0.00      0.00        11\n",
      "          17       0.00      0.00      0.00         5\n",
      "          18       0.01      0.40      0.03         5\n",
      "          19       0.00      0.00      0.00        11\n",
      "          20       0.00      0.00      0.00         4\n",
      "          21       0.00      0.00      0.00        10\n",
      "          22       0.00      0.00      0.00         9\n",
      "          23       0.00      0.00      0.00         5\n",
      "          24       0.00      0.00      0.00        10\n",
      "          25       0.00      0.00      0.00         4\n",
      "          26       0.00      0.00      0.00        67\n",
      "          27       0.00      0.00      0.00         6\n",
      "          28       0.02      0.11      0.03        18\n",
      "          29       0.00      0.00      0.00        28\n",
      "          30       0.00      0.00      0.00        30\n",
      "          31       0.00      0.00      0.00        36\n",
      "          32       0.00      0.00      0.00        24\n",
      "          33       0.00      0.00      0.00        54\n",
      "          34       0.00      0.00      0.00        48\n",
      "          35       0.00      0.00      0.00        47\n",
      "          36       0.10      0.03      0.04       109\n",
      "          37       0.12      0.06      0.08        79\n",
      "          38       0.00      0.00      0.00        85\n",
      "          39       0.04      0.01      0.02       136\n",
      "          40       0.05      0.02      0.03       121\n",
      "          41       0.09      0.02      0.04       171\n",
      "          42       0.09      0.05      0.06       166\n",
      "          43       0.11      0.12      0.11       151\n",
      "          44       0.16      0.03      0.05       146\n",
      "          45       0.18      0.06      0.09       104\n",
      "          46       0.27      0.19      0.22       321\n",
      "\n",
      "    accuracy                           0.06      2040\n",
      "   macro avg       0.03      0.05      0.02      2040\n",
      "weighted avg       0.10      0.06      0.07      2040\n",
      "\n",
      "accuracy:  0.058333333333333334\n"
     ]
    },
    {
     "name": "stderr",
     "output_type": "stream",
     "text": [
      "D:\\Anaconda3\\lib\\site-packages\\sklearn\\metrics\\_classification.py:1272: UndefinedMetricWarning: Precision and F-score are ill-defined and being set to 0.0 in labels with no predicted samples. Use `zero_division` parameter to control this behavior.\n",
      "  _warn_prf(average, modifier, msg_start, len(result))\n",
      "D:\\Anaconda3\\lib\\site-packages\\sklearn\\metrics\\_classification.py:1272: UndefinedMetricWarning: Recall and F-score are ill-defined and being set to 0.0 in labels with no true samples. Use `zero_division` parameter to control this behavior.\n",
      "  _warn_prf(average, modifier, msg_start, len(result))\n"
     ]
    }
   ],
   "source": [
    "from sklearn.naive_bayes import GaussianNB\n",
    "\n",
    "Modellast = GaussianNB()\n",
    "Modellast.fit(X_train2,y_train2)\n",
    "\n",
    "predictionsclass = Modellast.predict(X_test2)\n",
    "print(predictionsclass)\n",
    "print()\n",
    "\n",
    "#check precision, recall, f1-score\n",
    "print(classification_report(y_test2, predictionsclass))\n",
    "print(\"accuracy: \", accuracy_score(y_test2, predictionsclass))"
   ]
  },
  {
   "cell_type": "markdown",
   "metadata": {},
   "source": [
    "Setelah itu saya coba dan saya train dengan model KNeighborsClassifier,svc,Decision tree dan Gaussian naivebyes  dan menghasilkan nilai yang paling tinggi yaitu pada KNeighborsClassifier :18.5% ,ExtraTreeClassifier: 18,4%,SVC: 18% dan berikutnya  Decision tree : 16%, Gaussian naivebyes:5%\n",
    "\n",
    "Hal ini menunjukan bahwa KNeighborsClassifier menghasilkan prediksi paling tinggi dengan 8 fitur yg saya pakaiyang sebelumnya dengan target review-scorerating. Untuk mempermudah dalam melihat performa model, saya  menggunakan beberapa metrics seperti precision, recall, f1-score.\n",
    "\n",
    "\n",
    "di KNN, K adalah jumlah tetangga terdekat. Jumlah tetangga adalah faktor penentu int.Pada tahap training klasifikasi tetangga K-terdekat jauh lebih cepat dibandingkan dengan algoritma klasifikasi lainnya. Tidak perlu melatih model untuk generalisasi.\n",
    "\n",
    "Kesimpulan: clarification ini lebih baik menggunakan feature selection dengan select K best, sebagai contoh saya memilih 8 fitur diatas.. dan ditrain dengan nilai tertinggi dari KNeighborsClassifier karena pada kasus tersebut KNeighborsClassifier yg paling cocok digunakan KNN dapat berguna jika ada data nonlinear. Nilai output untuk objek dihitung oleh rata-rata nilai tetangga terdekat k. Untuk hasil yang lebih baik, menormalkan data pada skala yang sama sangat dianjurkan.\n",
    "\n",
    "untuk n pada KNeighborsClassifier saya buat 300 karena jumlah value.count pada review score rating itu ada 101, saya menyimpulkan nilai terbaik n nya yaitu 3x lipat dari value.count maka n nya saya buat menjadi 300 untuk mendapatkan accuracy yg lebih tinggi\n",
    "\n",
    "    "
   ]
  },
  {
   "cell_type": "markdown",
   "metadata": {},
   "source": [
    "# Data distribution"
   ]
  },
  {
   "cell_type": "code",
   "execution_count": 61,
   "metadata": {},
   "outputs": [],
   "source": [
    "from sklearn.cluster import KMeans, DBSCAN\n",
    "from sklearn.mixture import GaussianMixture\n",
    "from sklearn.metrics import silhouette_score\n",
    "import matplotlib.pyplot as plt\n",
    "import pandas as pd\n",
    "import numpy as np\n",
    "import seaborn as sb\n",
    "\n",
    "#References : https://github.com/andrychowanda/COMP6577/blob/master/COMP6577-7.ipynb"
   ]
  },
  {
   "cell_type": "markdown",
   "metadata": {},
   "source": [
    "Dibawah ini adalah training untuk Kmeans yang menghasilkan KMN labels,Cluster, dan Y predict\n",
    "\n",
    "KMeans bertujuan untuk menemukan grup dalam data, dengan jumlah grup yang diwakili oleh variabel nya yang merupakan  cluster yang diinginkan pada kasus, Kasusnya yaitu pada pesebaran data yang saya miliki sebelumnya berikut hasilnya dan beserta plotnya"
   ]
  },
  {
   "cell_type": "code",
   "execution_count": 62,
   "metadata": {},
   "outputs": [
    {
     "name": "stdout",
     "output_type": "stream",
     "text": [
      "KMN Labels :  [0 1 1 ... 1 1 0]\n",
      "KMN Cluster Centre :  [[2.90327238e+00 2.79044755e+01 5.44078441e+01 5.05269490e+00\n",
      "  3.64533205e-01 3.72425409e+00 2.46222329e+00 1.34432146e+00\n",
      "  2.76684312e+00 1.01780558e+00 9.36114052e+01 2.14062079e+02]\n",
      " [2.82632031e+00 2.73795620e+01 5.27217690e+01 6.37440962e+00\n",
      "  7.39158437e-01 3.18763418e+00 2.77436668e+00 1.35122370e+00\n",
      "  2.63095749e+00 2.70416488e+00 9.23808502e+01 6.77640618e+01]\n",
      " [2.92924188e+00 2.81436823e+01 5.48945848e+01 4.88519856e+00\n",
      "  3.64620939e-01 3.93140794e+00 2.43465704e+00 1.34079422e+00\n",
      "  2.93212996e+00 8.98194946e-01 8.86064982e+01 3.92362455e+02]]\n",
      "Y Predict :  [0 1 1 ... 1 1 0]\n"
     ]
    }
   ],
   "source": [
    "#Training using KMeans\n",
    "\n",
    "#xtrain,xtest,ytrain,ytest = train_test_split(x,y,test_size = 0.2)\n",
    "#mengkonfigurasi dan menentukan nilai K sebesar 3 cluster.\n",
    "KMN = KMeans(n_clusters=3).fit(x)\n",
    "KMNLabels = KMN.labels_\n",
    "KMNClusterCenters = KMN.cluster_centers_\n",
    "YPredict = KMN.predict(x)\n",
    "print(\"KMN Labels : \", KMNLabels)\n",
    "print(\"KMN Cluster Centre : \", KMNClusterCenters)\n",
    "print(\"Y Predict : \", YPredict)"
   ]
  },
  {
   "cell_type": "code",
   "execution_count": 63,
   "metadata": {},
   "outputs": [
    {
     "data": {
      "image/png": "[encoded data removed]",
      "text/plain": [
       "<Figure size 432x288 with 1 Axes>"
      ]
     },
     "metadata": {
      "needs_background": "light"
     },
     "output_type": "display_data"
    }
   ],
   "source": [
    "#Memilih jumlah K yang tepat dengan with Elbow Curve\n",
    "\n",
    "Ks = range(1, 20)\n",
    "KMNs = [KMeans(n_clusters=i) for i in Ks]\n",
    "score = [KMNs[i].fit(x).score(x) for i in range(len(KMNs))]\n",
    "plt.plot(Ks, score)\n",
    "plt.xlabel('Number of Clusters')\n",
    "plt.ylabel('Score')\n",
    "plt.title('Elbow Curve')\n",
    "plt.show()"
   ]
  },
  {
   "cell_type": "markdown",
   "metadata": {},
   "source": [
    "pada Kmeans mengklasifikasikan sampel berdasarkan atribut / fitur ke dalam jumlah K cluster dengan meminimalkan jarak a ntara sampel dan pusat massa sehingga menghasilkan hasil pada plot yang sangat dekat, tetapi Lebih baik untuk data dimensi tinggi. Namun  Kmeans Menganggap cluster sebagai bola, sehingga tidak bekerja secara efisien dengan data berbentuk geometris yang kompleks\n",
    "\n",
    "hasil plot dari Kmeans, terlihat hasil dari 3 clustering yang menunjukkan data sangat rapat dan dekat, ada juga beberapa cluster yang menyebar jauh di cluster yang sama, sehingga tercampur dengan cluster lainnya dan 46% data tersebut menunjukan sebearan dari Kmeans\n",
    "\n",
    "karena pada kinerja dari K-Means Clustering ini sendiri tidak sekompetitif teknik-teknik pengelompokan canggih lainnya karena sedikit variasi dalam data dapat menyebabkan varians yang tinggi.\n"
   ]
  },
  {
   "cell_type": "code",
   "execution_count": 64,
   "metadata": {},
   "outputs": [
    {
     "data": {
      "image/png": "[encoded data removed]",
      "text/plain": [
       "<Figure size 432x288 with 1 Axes>"
      ]
     },
     "metadata": {
      "needs_background": "light"
     },
     "output_type": "display_data"
    },
    {
     "name": "stdout",
     "output_type": "stream",
     "text": [
      "KMeans:  0.46043971733433625\n"
     ]
    }
   ],
   "source": [
    "plt.scatter(x.iloc[:, 0], x.iloc[:, 1], c = YPredict)\n",
    "plt.scatter(KMNClusterCenters[:, 0], KMNClusterCenters[:, 1], c = \"b\", s=200, alpha=0.5);\n",
    "plt.show()\n",
    "print(\"KMeans: \", silhouette_score(x, YPredict))"
   ]
  },
  {
   "cell_type": "markdown",
   "metadata": {},
   "source": [
    "Dibawah ini adalah hasil plot dari GMM , terlihat hasil dari kmeans adalah 5% data tersebut menunjukan mixture dari G sebaran peluang Gaussian. jarak antar pusat gerombol dan keragaman setiap gerombol untuk melihat keefektifan metode jika ketiga gerombol saling berjauhan, saling berdekatan, maupun saling tumpang tindih.\n",
    "\n",
    "Pada hasil saya diatas terdapat menjadi 3 cluster saja"
   ]
  },
  {
   "cell_type": "code",
   "execution_count": 65,
   "metadata": {},
   "outputs": [
    {
     "name": "stdout",
     "output_type": "stream",
     "text": [
      "Y Predict :  [0 0 0 ... 1 1 1]\n"
     ]
    },
    {
     "data": {
      "image/png": "[encoded data removed]",
      "text/plain": [
       "<Figure size 432x288 with 1 Axes>"
      ]
     },
     "metadata": {
      "needs_background": "light"
     },
     "output_type": "display_data"
    },
    {
     "name": "stdout",
     "output_type": "stream",
     "text": [
      "GMM:  -0.05298979703242782\n"
     ]
    }
   ],
   "source": [
    "#mengkonfigurasi dan menentukan nilai K sebesar 3 cluster.\n",
    "GMM = GaussianMixture(n_components=3).fit(x)\n",
    "YPredict = GMM.predict(x)\n",
    "print(\"Y Predict : \", YPredict)\n",
    "\n",
    "plt.scatter(x.iloc[:,0], x.iloc[:,1],c = YPredict)\n",
    "plt.show()\n",
    "print(\"GMM: \", silhouette_score(x, YPredict))"
   ]
  },
  {
   "cell_type": "markdown",
   "metadata": {},
   "source": [
    "Pada hasil GMM terdapat 3 cluster dari plot diatas tersebut sudah baik, ada beberapa cluser tersebar tidak terlalu jauh dengan cluster itu sendiri, sehingga penyebarannya tidak mencampur dengan cluster lainnya.. tetapi ada juga yg menyebar lumayan jauh, ukuran clusternya tidak biasa memiliki struktur spesifik seperti halnya oleh K-Means (Circular).\n",
    "\n",
    "Karena pada dasarnya GMM menggunakan probabilitas sampel untuk menentukan kelayakan milik cluster.Cocok saat digunakan jika tidak tau titik data di mana mereka berada atau kelompok mana.GMM juga Tidak menganggap cluster sebagai geometri apa pun.\n"
   ]
  },
  {
   "cell_type": "code",
   "execution_count": null,
   "metadata": {},
   "outputs": [],
   "source": []
  }
 ],
 "metadata": {
  "kernelspec": {
   "display_name": "Python 3",
   "language": "python",
   "name": "python3"
  },
  "language_info": {
   "codemirror_mode": {
    "name": "ipython",
    "version": 3
   },
   "file_extension": ".py",
   "mimetype": "text/x-python",
   "name": "python",
   "nbconvert_exporter": "python",
   "pygments_lexer": "ipython3",
   "version": "3.8.3"
  }
 },
 "nbformat": 4,
 "nbformat_minor": 4
}
